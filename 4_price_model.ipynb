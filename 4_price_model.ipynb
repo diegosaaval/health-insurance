{
 "cells": [
  {
   "cell_type": "code",
   "execution_count": 201,
   "metadata": {},
   "outputs": [],
   "source": [
    "import pandas as pd\n",
    "import numpy as np\n",
    "\n",
    "\n",
    "# Cargar base de datos de pickle\n",
    "df = pd.read_pickle(\"data/df.pkl\")"
   ]
  },
  {
   "cell_type": "code",
   "execution_count": 202,
   "metadata": {},
   "outputs": [
    {
     "data": {
      "application/vnd.plotly.v1+json": {
       "config": {
        "plotlyServerURL": "https://plot.ly"
       },
       "data": [
        {
         "alignmentgroup": "True",
         "hovertemplate": "Precio promedio=%{x}<br>Motivo reclamación=%{y}<extra></extra>",
         "legendgroup": "",
         "marker": {
          "color": "rgb(103,0,31)",
          "pattern": {
           "shape": ""
          }
         },
         "name": "",
         "offsetgroup": "",
         "orientation": "h",
         "showlegend": false,
         "textposition": "auto",
         "type": "bar",
         "x": [
          13322072.352997601,
          4939003.833333333,
          4850183.555878929,
          4399066.141926345,
          3127807.111111111,
          2341697.7616777886,
          1759190.1216730038,
          1162085.5684210525,
          855881.9935897436,
          684396.0427974948,
          620000,
          263707.99733898405,
          163376.45596307385,
          145172.654787414,
          139205.19768282346,
          133394.5,
          132176.70588235295,
          128919.8995006866,
          106511.10016835017,
          91265.438302242,
          87352.8227344992,
          79020.82352941176,
          73818.11703302932,
          26756.296543310702
         ],
         "xaxis": "x",
         "y": [
          "TRATAMIENTO QUIRURGICO HOSPITALARIO",
          "FUNERARIOS",
          "ATENCION DEL PARTO",
          "TRATAMIENTO MEDICO HOSPITALARIO",
          "DIALISIS",
          "PAMD",
          "CIRUGIA AMBULATORIA",
          "ATENCION INTEGRAL DE SALUD MENTAL",
          "COBERTURA PROGRAMA PALIATIVOS",
          "TRATAMIENTO AMBULATORIO",
          "DONACION DE ORGANOS",
          "EXAMENES DE DIAGNOSTICO",
          "INFILTRACIONES",
          "TRATAMIENTOS ESPECIFICOS",
          "CONSULTA DE URGENCIAS",
          "CONCILIACION",
          "VACUNACION",
          "LABORATORIO CLINICO",
          "TRASLADO EN AMBULANCIA",
          "CONSULTAS PRENATALES",
          "Sin Informacion",
          "ODONTOLOGÍA",
          "CONSULTA EXTERNA",
          "FISIOTERAPIA ILIMITADA"
         ],
         "yaxis": "y"
        }
       ],
       "layout": {
        "barmode": "relative",
        "legend": {
         "tracegroupgap": 0
        },
        "template": {
         "data": {
          "bar": [
           {
            "error_x": {
             "color": "#2a3f5f"
            },
            "error_y": {
             "color": "#2a3f5f"
            },
            "marker": {
             "line": {
              "color": "#E5ECF6",
              "width": 0.5
             },
             "pattern": {
              "fillmode": "overlay",
              "size": 10,
              "solidity": 0.2
             }
            },
            "type": "bar"
           }
          ],
          "barpolar": [
           {
            "marker": {
             "line": {
              "color": "#E5ECF6",
              "width": 0.5
             },
             "pattern": {
              "fillmode": "overlay",
              "size": 10,
              "solidity": 0.2
             }
            },
            "type": "barpolar"
           }
          ],
          "carpet": [
           {
            "aaxis": {
             "endlinecolor": "#2a3f5f",
             "gridcolor": "white",
             "linecolor": "white",
             "minorgridcolor": "white",
             "startlinecolor": "#2a3f5f"
            },
            "baxis": {
             "endlinecolor": "#2a3f5f",
             "gridcolor": "white",
             "linecolor": "white",
             "minorgridcolor": "white",
             "startlinecolor": "#2a3f5f"
            },
            "type": "carpet"
           }
          ],
          "choropleth": [
           {
            "colorbar": {
             "outlinewidth": 0,
             "ticks": ""
            },
            "type": "choropleth"
           }
          ],
          "contour": [
           {
            "colorbar": {
             "outlinewidth": 0,
             "ticks": ""
            },
            "colorscale": [
             [
              0,
              "#0d0887"
             ],
             [
              0.1111111111111111,
              "#46039f"
             ],
             [
              0.2222222222222222,
              "#7201a8"
             ],
             [
              0.3333333333333333,
              "#9c179e"
             ],
             [
              0.4444444444444444,
              "#bd3786"
             ],
             [
              0.5555555555555556,
              "#d8576b"
             ],
             [
              0.6666666666666666,
              "#ed7953"
             ],
             [
              0.7777777777777778,
              "#fb9f3a"
             ],
             [
              0.8888888888888888,
              "#fdca26"
             ],
             [
              1,
              "#f0f921"
             ]
            ],
            "type": "contour"
           }
          ],
          "contourcarpet": [
           {
            "colorbar": {
             "outlinewidth": 0,
             "ticks": ""
            },
            "type": "contourcarpet"
           }
          ],
          "heatmap": [
           {
            "colorbar": {
             "outlinewidth": 0,
             "ticks": ""
            },
            "colorscale": [
             [
              0,
              "#0d0887"
             ],
             [
              0.1111111111111111,
              "#46039f"
             ],
             [
              0.2222222222222222,
              "#7201a8"
             ],
             [
              0.3333333333333333,
              "#9c179e"
             ],
             [
              0.4444444444444444,
              "#bd3786"
             ],
             [
              0.5555555555555556,
              "#d8576b"
             ],
             [
              0.6666666666666666,
              "#ed7953"
             ],
             [
              0.7777777777777778,
              "#fb9f3a"
             ],
             [
              0.8888888888888888,
              "#fdca26"
             ],
             [
              1,
              "#f0f921"
             ]
            ],
            "type": "heatmap"
           }
          ],
          "heatmapgl": [
           {
            "colorbar": {
             "outlinewidth": 0,
             "ticks": ""
            },
            "colorscale": [
             [
              0,
              "#0d0887"
             ],
             [
              0.1111111111111111,
              "#46039f"
             ],
             [
              0.2222222222222222,
              "#7201a8"
             ],
             [
              0.3333333333333333,
              "#9c179e"
             ],
             [
              0.4444444444444444,
              "#bd3786"
             ],
             [
              0.5555555555555556,
              "#d8576b"
             ],
             [
              0.6666666666666666,
              "#ed7953"
             ],
             [
              0.7777777777777778,
              "#fb9f3a"
             ],
             [
              0.8888888888888888,
              "#fdca26"
             ],
             [
              1,
              "#f0f921"
             ]
            ],
            "type": "heatmapgl"
           }
          ],
          "histogram": [
           {
            "marker": {
             "pattern": {
              "fillmode": "overlay",
              "size": 10,
              "solidity": 0.2
             }
            },
            "type": "histogram"
           }
          ],
          "histogram2d": [
           {
            "colorbar": {
             "outlinewidth": 0,
             "ticks": ""
            },
            "colorscale": [
             [
              0,
              "#0d0887"
             ],
             [
              0.1111111111111111,
              "#46039f"
             ],
             [
              0.2222222222222222,
              "#7201a8"
             ],
             [
              0.3333333333333333,
              "#9c179e"
             ],
             [
              0.4444444444444444,
              "#bd3786"
             ],
             [
              0.5555555555555556,
              "#d8576b"
             ],
             [
              0.6666666666666666,
              "#ed7953"
             ],
             [
              0.7777777777777778,
              "#fb9f3a"
             ],
             [
              0.8888888888888888,
              "#fdca26"
             ],
             [
              1,
              "#f0f921"
             ]
            ],
            "type": "histogram2d"
           }
          ],
          "histogram2dcontour": [
           {
            "colorbar": {
             "outlinewidth": 0,
             "ticks": ""
            },
            "colorscale": [
             [
              0,
              "#0d0887"
             ],
             [
              0.1111111111111111,
              "#46039f"
             ],
             [
              0.2222222222222222,
              "#7201a8"
             ],
             [
              0.3333333333333333,
              "#9c179e"
             ],
             [
              0.4444444444444444,
              "#bd3786"
             ],
             [
              0.5555555555555556,
              "#d8576b"
             ],
             [
              0.6666666666666666,
              "#ed7953"
             ],
             [
              0.7777777777777778,
              "#fb9f3a"
             ],
             [
              0.8888888888888888,
              "#fdca26"
             ],
             [
              1,
              "#f0f921"
             ]
            ],
            "type": "histogram2dcontour"
           }
          ],
          "mesh3d": [
           {
            "colorbar": {
             "outlinewidth": 0,
             "ticks": ""
            },
            "type": "mesh3d"
           }
          ],
          "parcoords": [
           {
            "line": {
             "colorbar": {
              "outlinewidth": 0,
              "ticks": ""
             }
            },
            "type": "parcoords"
           }
          ],
          "pie": [
           {
            "automargin": true,
            "type": "pie"
           }
          ],
          "scatter": [
           {
            "fillpattern": {
             "fillmode": "overlay",
             "size": 10,
             "solidity": 0.2
            },
            "type": "scatter"
           }
          ],
          "scatter3d": [
           {
            "line": {
             "colorbar": {
              "outlinewidth": 0,
              "ticks": ""
             }
            },
            "marker": {
             "colorbar": {
              "outlinewidth": 0,
              "ticks": ""
             }
            },
            "type": "scatter3d"
           }
          ],
          "scattercarpet": [
           {
            "marker": {
             "colorbar": {
              "outlinewidth": 0,
              "ticks": ""
             }
            },
            "type": "scattercarpet"
           }
          ],
          "scattergeo": [
           {
            "marker": {
             "colorbar": {
              "outlinewidth": 0,
              "ticks": ""
             }
            },
            "type": "scattergeo"
           }
          ],
          "scattergl": [
           {
            "marker": {
             "colorbar": {
              "outlinewidth": 0,
              "ticks": ""
             }
            },
            "type": "scattergl"
           }
          ],
          "scattermapbox": [
           {
            "marker": {
             "colorbar": {
              "outlinewidth": 0,
              "ticks": ""
             }
            },
            "type": "scattermapbox"
           }
          ],
          "scatterpolar": [
           {
            "marker": {
             "colorbar": {
              "outlinewidth": 0,
              "ticks": ""
             }
            },
            "type": "scatterpolar"
           }
          ],
          "scatterpolargl": [
           {
            "marker": {
             "colorbar": {
              "outlinewidth": 0,
              "ticks": ""
             }
            },
            "type": "scatterpolargl"
           }
          ],
          "scatterternary": [
           {
            "marker": {
             "colorbar": {
              "outlinewidth": 0,
              "ticks": ""
             }
            },
            "type": "scatterternary"
           }
          ],
          "surface": [
           {
            "colorbar": {
             "outlinewidth": 0,
             "ticks": ""
            },
            "colorscale": [
             [
              0,
              "#0d0887"
             ],
             [
              0.1111111111111111,
              "#46039f"
             ],
             [
              0.2222222222222222,
              "#7201a8"
             ],
             [
              0.3333333333333333,
              "#9c179e"
             ],
             [
              0.4444444444444444,
              "#bd3786"
             ],
             [
              0.5555555555555556,
              "#d8576b"
             ],
             [
              0.6666666666666666,
              "#ed7953"
             ],
             [
              0.7777777777777778,
              "#fb9f3a"
             ],
             [
              0.8888888888888888,
              "#fdca26"
             ],
             [
              1,
              "#f0f921"
             ]
            ],
            "type": "surface"
           }
          ],
          "table": [
           {
            "cells": {
             "fill": {
              "color": "#EBF0F8"
             },
             "line": {
              "color": "white"
             }
            },
            "header": {
             "fill": {
              "color": "#C8D4E3"
             },
             "line": {
              "color": "white"
             }
            },
            "type": "table"
           }
          ]
         },
         "layout": {
          "annotationdefaults": {
           "arrowcolor": "#2a3f5f",
           "arrowhead": 0,
           "arrowwidth": 1
          },
          "autotypenumbers": "strict",
          "coloraxis": {
           "colorbar": {
            "outlinewidth": 0,
            "ticks": ""
           }
          },
          "colorscale": {
           "diverging": [
            [
             0,
             "#8e0152"
            ],
            [
             0.1,
             "#c51b7d"
            ],
            [
             0.2,
             "#de77ae"
            ],
            [
             0.3,
             "#f1b6da"
            ],
            [
             0.4,
             "#fde0ef"
            ],
            [
             0.5,
             "#f7f7f7"
            ],
            [
             0.6,
             "#e6f5d0"
            ],
            [
             0.7,
             "#b8e186"
            ],
            [
             0.8,
             "#7fbc41"
            ],
            [
             0.9,
             "#4d9221"
            ],
            [
             1,
             "#276419"
            ]
           ],
           "sequential": [
            [
             0,
             "#0d0887"
            ],
            [
             0.1111111111111111,
             "#46039f"
            ],
            [
             0.2222222222222222,
             "#7201a8"
            ],
            [
             0.3333333333333333,
             "#9c179e"
            ],
            [
             0.4444444444444444,
             "#bd3786"
            ],
            [
             0.5555555555555556,
             "#d8576b"
            ],
            [
             0.6666666666666666,
             "#ed7953"
            ],
            [
             0.7777777777777778,
             "#fb9f3a"
            ],
            [
             0.8888888888888888,
             "#fdca26"
            ],
            [
             1,
             "#f0f921"
            ]
           ],
           "sequentialminus": [
            [
             0,
             "#0d0887"
            ],
            [
             0.1111111111111111,
             "#46039f"
            ],
            [
             0.2222222222222222,
             "#7201a8"
            ],
            [
             0.3333333333333333,
             "#9c179e"
            ],
            [
             0.4444444444444444,
             "#bd3786"
            ],
            [
             0.5555555555555556,
             "#d8576b"
            ],
            [
             0.6666666666666666,
             "#ed7953"
            ],
            [
             0.7777777777777778,
             "#fb9f3a"
            ],
            [
             0.8888888888888888,
             "#fdca26"
            ],
            [
             1,
             "#f0f921"
            ]
           ]
          },
          "colorway": [
           "#636efa",
           "#EF553B",
           "#00cc96",
           "#ab63fa",
           "#FFA15A",
           "#19d3f3",
           "#FF6692",
           "#B6E880",
           "#FF97FF",
           "#FECB52"
          ],
          "font": {
           "color": "#2a3f5f"
          },
          "geo": {
           "bgcolor": "white",
           "lakecolor": "white",
           "landcolor": "#E5ECF6",
           "showlakes": true,
           "showland": true,
           "subunitcolor": "white"
          },
          "hoverlabel": {
           "align": "left"
          },
          "hovermode": "closest",
          "mapbox": {
           "style": "light"
          },
          "paper_bgcolor": "white",
          "plot_bgcolor": "#E5ECF6",
          "polar": {
           "angularaxis": {
            "gridcolor": "white",
            "linecolor": "white",
            "ticks": ""
           },
           "bgcolor": "#E5ECF6",
           "radialaxis": {
            "gridcolor": "white",
            "linecolor": "white",
            "ticks": ""
           }
          },
          "scene": {
           "xaxis": {
            "backgroundcolor": "#E5ECF6",
            "gridcolor": "white",
            "gridwidth": 2,
            "linecolor": "white",
            "showbackground": true,
            "ticks": "",
            "zerolinecolor": "white"
           },
           "yaxis": {
            "backgroundcolor": "#E5ECF6",
            "gridcolor": "white",
            "gridwidth": 2,
            "linecolor": "white",
            "showbackground": true,
            "ticks": "",
            "zerolinecolor": "white"
           },
           "zaxis": {
            "backgroundcolor": "#E5ECF6",
            "gridcolor": "white",
            "gridwidth": 2,
            "linecolor": "white",
            "showbackground": true,
            "ticks": "",
            "zerolinecolor": "white"
           }
          },
          "shapedefaults": {
           "line": {
            "color": "#2a3f5f"
           }
          },
          "ternary": {
           "aaxis": {
            "gridcolor": "white",
            "linecolor": "white",
            "ticks": ""
           },
           "baxis": {
            "gridcolor": "white",
            "linecolor": "white",
            "ticks": ""
           },
           "bgcolor": "#E5ECF6",
           "caxis": {
            "gridcolor": "white",
            "linecolor": "white",
            "ticks": ""
           }
          },
          "title": {
           "x": 0.05
          },
          "xaxis": {
           "automargin": true,
           "gridcolor": "white",
           "linecolor": "white",
           "ticks": "",
           "title": {
            "standoff": 15
           },
           "zerolinecolor": "white",
           "zerolinewidth": 2
          },
          "yaxis": {
           "automargin": true,
           "gridcolor": "white",
           "linecolor": "white",
           "ticks": "",
           "title": {
            "standoff": 15
           },
           "zerolinecolor": "white",
           "zerolinewidth": 2
          }
         }
        },
        "title": {
         "text": "Precio promedio por Reclamación"
        },
        "xaxis": {
         "anchor": "y",
         "domain": [
          0,
          1
         ],
         "title": {
          "text": "Precio promedio"
         }
        },
        "yaxis": {
         "anchor": "x",
         "domain": [
          0,
          1
         ],
         "title": {
          "text": "Motivo reclamación"
         }
        }
       }
      }
     },
     "metadata": {},
     "output_type": "display_data"
    }
   ],
   "source": [
    "df = df.rename(columns={\"Precio_Utilización\": \"target\"})\n",
    "\n",
    "# Gráfica de barras\n",
    "import plotly.express as px\n",
    "\n",
    "fig = px.bar(\n",
    "    df.groupby(\"Reclamacion_Desc\")[\"target\"].mean().sort_values(ascending=False),\n",
    "    x=\"target\",\n",
    "    title=\"Precio promedio por Reclamación\",\n",
    "    labels={\"Reclamacion_Desc\": \"Motivo reclamación\", \"target\": \"Precio promedio\"},\n",
    "    color_discrete_sequence=px.colors.sequential.RdBu,\n",
    ")\n",
    "fig.show()"
   ]
  },
  {
   "cell_type": "markdown",
   "metadata": {},
   "source": [
    "# Preprocesamiento"
   ]
  },
  {
   "cell_type": "markdown",
   "metadata": {},
   "source": [
    "Se eliminaran las siguientes columnas\n",
    "\n",
    "No aporta información al modelo:\n",
    "* Afiliado_Id\n",
    "* Fecha_Reclamacion\n",
    "* FECHA_INICIO\n",
    "* FECHA_FIN\n",
    "\n",
    "No son útiles para el tarifario (datos que no se piden al cliente)\n",
    "* Cantidad_Utilizaciones: El 87% es 1 entonces el modelo no aprenderá nada \n",
    "* Costo_Total_Utilizaciones: Sacaremos el tarifario con el precio unitario\n",
    "* Diagnostico_Desc: Tomaremos solo la variable reclamación para justificar el precio del seguro médico\n",
    "* Días_en_reclamar: Tomaremos solo la variable reclamación para justificar el precio del seguro médico\n",
    "\n",
    "La columna tiene otra relacionada\n",
    "* Edad: Tenemos rango de edad\n",
    "\n",
    "También unimos de la variable Reclamacion_Desc Donacion de organos y conciliacion como Otros, ya que tenían muy pocos registros y daba problemas al hacer el split de train y test\n",
    "\n",
    "Y para el otro dataframe quitamos las mismas excepto Afiliado ID para poder filtrar en el otro dataframe los expuestos"
   ]
  },
  {
   "cell_type": "code",
   "execution_count": 203,
   "metadata": {},
   "outputs": [],
   "source": [
    "###################### QUITAR COLUMNAS QUE NO SE VAN A UTILIZAR ######################\n",
    "###################### Renombre y copia del df ######################\n",
    "\n",
    "# Copia del df para el final\n",
    "df1 = df.copy()\n",
    "\n",
    "# Quitar columnas que no se van a utilizar\n",
    "df = df.drop(\n",
    "    [\n",
    "        \"Afiliado_Id\",\n",
    "        \"Fecha_Reclamacion\",\n",
    "        \"FECHA_INICIO\",\n",
    "        \"FECHA_FIN\",\n",
    "        \"Días_en_reclamar\",\n",
    "        \"Cantidad_Utilizaciones\",\n",
    "        \"Costo_Total_Utilizaciones\",\n",
    "        \"Diagnostico_Desc\",\n",
    "        \"Edad\",\n",
    "    ],\n",
    "    axis=1,\n",
    ")\n",
    "\n",
    "# Quitar columnas que no se van a utilizar pero para el dataset final necesitamos saber el Afiliado ID\n",
    "df1 = df1.drop(\n",
    "    [\n",
    "        \"Fecha_Reclamacion\",\n",
    "        \"FECHA_INICIO\",\n",
    "        \"FECHA_FIN\",\n",
    "        \"Días_en_reclamar\",\n",
    "        \"Cantidad_Utilizaciones\",\n",
    "        \"Costo_Total_Utilizaciones\",\n",
    "        \"Diagnostico_Desc\",\n",
    "        \"Edad\",\n",
    "    ],\n",
    "    axis=1,\n",
    ")\n",
    "\n",
    "\n",
    "# Unir conciliacion y donacion de organos de reclamacion_Desc como \"otros\"\n",
    "df[\"Reclamacion_Desc\"] = df[\"Reclamacion_Desc\"].replace(\n",
    "    [\n",
    "        \"CONCILIACION\",\n",
    "        \"DONACION DE ORGANOS\",\n",
    "    ],\n",
    "    \"OTROS\",\n",
    ")"
   ]
  },
  {
   "cell_type": "code",
   "execution_count": 62,
   "metadata": {},
   "outputs": [
    {
     "name": "stdout",
     "output_type": "stream",
     "text": [
      "Tamaño de X_train:  (446439, 9)\n",
      "Tamaño de X_test:  (191331, 9)\n"
     ]
    }
   ],
   "source": [
    "######################## PREPROCESAMIENTO MODELADO ########################\n",
    "# Separación de caracteristicas y target (X , y)\n",
    "from sklearn.model_selection import train_test_split\n",
    "\n",
    "y = df.target\n",
    "X = df.drop([\"target\"], axis=1)\n",
    "\n",
    "\n",
    "# Separación en conjuntos de train y test\n",
    "X_train, X_test, y_train, y_test = train_test_split(\n",
    "    X, y, test_size=0.3, random_state=42\n",
    ")\n",
    "\n",
    "\n",
    "# Mostrar los tamaños de los conjuntos\n",
    "print(\"Tamaño de X_train: \", X_train.shape)\n",
    "print(\"Tamaño de X_test: \", X_test.shape)\n",
    "\n",
    "\n",
    "# Seleccionar variables numéricas int64 y float64 y categóricas object\n",
    "# numeric_columns = list(X.select_dtypes(include=[\"int64\", \"float64\"]).columns)\n",
    "categorical_columns = list(X.select_dtypes(include=[\"object\", \"category\"]).columns)\n",
    "\n",
    "\n",
    "# Estandarizar las variables numéricas\n",
    "from sklearn.preprocessing import StandardScaler\n",
    "\n",
    "\n",
    "# scaler = StandardScaler()\n",
    "# X_train[numeric_columns] = scaler.fit_transform(X_train[numeric_columns])\n",
    "# X_test[numeric_columns] = scaler.transform(X_test[numeric_columns])\n",
    "\n",
    "\n",
    "# Convertir a dummy las variables categóricas\n",
    "X_train = pd.get_dummies(X_train)\n",
    "X_test = pd.get_dummies(X_test)"
   ]
  },
  {
   "cell_type": "markdown",
   "metadata": {},
   "source": [
    "# Modelos"
   ]
  },
  {
   "cell_type": "markdown",
   "metadata": {},
   "source": [
    "MÉTRICA:\n",
    "\n",
    "En el contexto del número de costo utilizaciones de un seguro en el sector salud, es esencial considerar la presencia de valores extremos. Estos valores pueden surgir debido a una serie de factores, como la atención médica intensiva necesaria para pacientes con condiciones médicas excepcionalmente graves o complejas.\n",
    "\n",
    "La presencia de valores extremos es lógica en este contexto, ya que reflejan situaciones donde los pacientes enfrentan enfermedades graves que no son comunes. Por lo tanto, resulta crucial emplear una métrica que sea capaz de capturar y ser sensible a estos valores extremos.\n",
    "\n",
    "El RMSE (Error Cuadrático Medio de la Raíz) se destaca como una métrica más sensible a los valores extremos que el MSE (Error Cuadrático Medio). Esto indica que un modelo con un RMSE bajo tiene una mayor probabilidad de realizar predicciones precisas, incluso en presencia de valores extremos en los datos.\n",
    "\n",
    "Por consiguiente, en este contexto, el uso del RMSE como métrica de evaluación resulta fundamental para evaluar el rendimiento del modelo de predicción del número de utilizaciones de un seguro en el sector salud. Esta métrica permitirá una evaluación más precisa y sensible a las variaciones extremas en el uso del seguro médico."
   ]
  },
  {
   "cell_type": "markdown",
   "metadata": {},
   "source": [
    "MODELADO:\n",
    "\n",
    "En este estudio, se utilizarán varios modelos de aprendizaje automático para predecir el costo de un seguro médico. Inicialmente, se implementarán modelos de Regresión Lineal y Árboles de Decisión, que proporcionan una buena base y permiten una fácil interpretación de los resultados. Sin embargo, estos modelos pueden no capturar toda la complejidad en los datos, por lo que también se explorarán modelos más avanzados. En particular, se utilizarán XGBoost y LightGBM, que son algoritmos de aumento de gradiente que pueden capturar relaciones no lineales y de orden superior en los datos. Aunque estos modelos son más complejos y tienen más hiperparámetros para ajustar, han sido diseñados específicamente para ser eficientes en conjuntos de datos grandes, lo que los hace adecuados para este estudio. Finalmente, se considerará el uso de Máquinas de Vectores de Soporte (SVM), aunque su eficiencia en conjuntos de datos grandes puede ser una preocupación. La elección del modelo final dependerá del rendimiento en una métrica de error cuadrático medio (RMSE), así como de la interpretabilidad y la eficiencia del modelo."
   ]
  },
  {
   "cell_type": "code",
   "execution_count": 63,
   "metadata": {},
   "outputs": [
    {
     "name": "stdout",
     "output_type": "stream",
     "text": [
      "                   Model  RMSE (Train)   RMSE (Test)    MAE (Train)  \\\n",
      "0       LinearRegression  1.493200e+06  1.435532e+06  198537.743013   \n",
      "1  DecisionTreeRegressor  1.271098e+06  1.733297e+06  171642.967749   \n",
      "2           XGBRegressor  1.292084e+06  1.627416e+06  177408.794859   \n",
      "3          LGBMRegressor  1.363887e+06  1.465895e+06  182331.029011   \n",
      "\n",
      "      MAE (Test)  R2 (Train)  R2 (Test)  \n",
      "0  198620.311023    0.251022   0.284695  \n",
      "1  193586.606806    0.455978  -0.106886  \n",
      "2  190213.995812    0.437759   0.034109  \n",
      "3  187902.368930    0.374739   0.250585  \n"
     ]
    }
   ],
   "source": [
    "from sklearn.linear_model import LinearRegression\n",
    "from sklearn.tree import DecisionTreeRegressor\n",
    "from sklearn.ensemble import RandomForestRegressor\n",
    "from xgboost import XGBRegressor\n",
    "from lightgbm import LGBMRegressor\n",
    "\n",
    "\n",
    "from sklearn.model_selection import cross_validate\n",
    "\n",
    "\n",
    "################################## MODELOS ########################################\n",
    "models = {\n",
    "    \"LinearRegression\": LinearRegression(n_jobs=-1),\n",
    "    \"DecisionTreeRegressor\": DecisionTreeRegressor(random_state=42),\n",
    "    # \"RandomForestRegressor\": RandomForestRegressor(random_state=42, n_jobs=-1),\n",
    "    \"XGBRegressor\": XGBRegressor(random_state=42, n_jobs=-1, verbosity=0),\n",
    "    \"LGBMRegressor\": LGBMRegressor(\n",
    "        random_state=42, n_jobs=-1, verbose=-1, min_data_in_leaf=10\n",
    "    ),\n",
    "}\n",
    "\n",
    "##############################ENTRENAR MODELOS CON CV Y MÉTRICA################################################################\n",
    "# Cargar librerías\n",
    "from sklearn.model_selection import cross_validate  # Validación cruzada\n",
    "\n",
    "\n",
    "def train_models_cv(models, X_train, y_train, cv, metrics):\n",
    "    results = []\n",
    "\n",
    "    for model_name, model in models.items():\n",
    "        model_results = {\"Model\": model_name}\n",
    "        for metric_name, metric_func in metrics:\n",
    "            cv_results = cross_validate(\n",
    "                model,\n",
    "                X_train,\n",
    "                y_train,\n",
    "                cv=cv,\n",
    "                n_jobs=-1,\n",
    "                scoring=metric_func,\n",
    "                return_train_score=True,\n",
    "            )\n",
    "            train_mean = cv_results[\"train_score\"].mean()\n",
    "            test_mean = cv_results[\"test_score\"].mean()\n",
    "\n",
    "            # Convertir a valor absoluto si la métrica es negativa\n",
    "            if \"neg_\" in metric_func:\n",
    "                train_mean = abs(train_mean)\n",
    "                test_mean = abs(test_mean)\n",
    "\n",
    "            model_results[f\"{metric_name} (Train)\"] = train_mean\n",
    "            model_results[f\"{metric_name} (Test)\"] = test_mean\n",
    "        results.append(model_results)\n",
    "\n",
    "    results_df = pd.DataFrame(results)\n",
    "    return results_df\n",
    "\n",
    "\n",
    "# Fit en todos los modelos con for\n",
    "for model_name, model in models.items():\n",
    "    model.fit(X_train, y_train)\n",
    "\n",
    "\n",
    "######################## MÉTRICAS ########################################\n",
    "# Define las métricas como una lista de tuplas (nombre, función)\n",
    "# En el CV la calcula como negativa neg_root_mean_squared_error\n",
    "metrics = [\n",
    "    (\"RMSE\", \"neg_root_mean_squared_error\"),\n",
    "    (\"MAE\", \"neg_mean_absolute_error\"),\n",
    "    (\"R2\", \"r2\"),\n",
    "]\n",
    "\n",
    "# Llama a la función con tus modelos, datos y validación cruzada\n",
    "results_df = train_models_cv(models, X_train, y_train, cv=5, metrics=metrics)\n",
    "print(results_df)"
   ]
  },
  {
   "cell_type": "markdown",
   "metadata": {},
   "source": [
    "## Curva de aprendizaje"
   ]
  },
  {
   "cell_type": "code",
   "execution_count": 64,
   "metadata": {},
   "outputs": [
    {
     "data": {
      "image/png": "[encoded data removed]",
      "text/plain": [
       "<Figure size 1000x600 with 1 Axes>"
      ]
     },
     "metadata": {},
     "output_type": "display_data"
    }
   ],
   "source": [
    "# Graficar curvas de aprendizaje para RMSE\n",
    "from sklearn.model_selection import learning_curve\n",
    "import matplotlib.pyplot as plt\n",
    "\n",
    "# Elección del mejor modelo\n",
    "best_model = models[\"LinearRegression\"]\n",
    "\n",
    "\n",
    "# Función para graficar curvas de aprendizaje\n",
    "def plot_learning_curve(\n",
    "    model, X, y, cv, scoring, train_sizes=np.linspace(0.1, 1.0, 10)\n",
    "):\n",
    "    train_sizes, train_scores, test_scores = learning_curve(\n",
    "        model,\n",
    "        X,\n",
    "        y,\n",
    "        cv=cv,\n",
    "        scoring=scoring,\n",
    "        train_sizes=train_sizes,\n",
    "        n_jobs=-1,\n",
    "        shuffle=True,\n",
    "        random_state=42,\n",
    "    )\n",
    "\n",
    "    train_scores_mean = np.mean(train_scores, axis=1)\n",
    "    test_scores_mean = np.mean(test_scores, axis=1)\n",
    "\n",
    "    # Convertir métrica a positiva si es necesario\n",
    "    if \"neg_\" in scoring:\n",
    "        train_scores_mean = -train_scores_mean\n",
    "        test_scores_mean = -test_scores_mean\n",
    "\n",
    "    plt.figure(figsize=(10, 6))\n",
    "    plt.plot(train_sizes, train_scores_mean, label=\"Train\")\n",
    "    plt.plot(train_sizes, test_scores_mean, label=\"Test\")\n",
    "    plt.xlabel(\"Train sizes\")\n",
    "    plt.ylabel(scoring)\n",
    "    plt.title(f\"Learning curve for {model.__class__.__name__}\")\n",
    "    plt.legend()\n",
    "    plt.grid()\n",
    "    plt.show()\n",
    "\n",
    "\n",
    "# Curva de aprendizaje con RMSE\n",
    "plot_learning_curve(\n",
    "    best_model,\n",
    "    X_train,\n",
    "    y_train,\n",
    "    cv=5,\n",
    "    scoring=\"neg_root_mean_squared_error\",\n",
    ")"
   ]
  },
  {
   "cell_type": "markdown",
   "metadata": {},
   "source": [
    "## Predicciones"
   ]
  },
  {
   "cell_type": "code",
   "execution_count": 65,
   "metadata": {},
   "outputs": [
    {
     "name": "stdout",
     "output_type": "stream",
     "text": [
      "RMSE(test) = 1641899.9164 en un conjunto de 191331 observaciones\n",
      "MAE(test) = 203583.7950 en un conjunto de 191331 observaciones\n",
      "R2(test) = 0.2375 en un conjunto de 191331 observaciones\n",
      "                                             Variable   Importancia  \\\n",
      "49                             ENF_CARDIOVASCULAR_1.0  7.104520e+15   \n",
      "48                             ENF_CARDIOVASCULAR_0.0  7.104520e+15   \n",
      "1                                              Sexo_M  1.129809e+13   \n",
      "0                                              Sexo_F  1.129809e+13   \n",
      "37  Reclamacion_Desc_TRATAMIENTO QUIRURGICO HOSPIT... -1.546034e+13   \n",
      "17                Reclamacion_Desc_ATENCION DEL PARTO -1.546035e+13   \n",
      "27                        Reclamacion_Desc_FUNERARIOS -1.546035e+13   \n",
      "36   Reclamacion_Desc_TRATAMIENTO MEDICO HOSPITALARIO -1.546035e+13   \n",
      "24                          Reclamacion_Desc_DIALISIS -1.546035e+13   \n",
      "32                              Reclamacion_Desc_PAMD -1.546035e+13   \n",
      "19               Reclamacion_Desc_CIRUGIA AMBULATORIA -1.546035e+13   \n",
      "18  Reclamacion_Desc_ATENCION INTEGRAL DE SALUD ME... -1.546035e+13   \n",
      "20     Reclamacion_Desc_COBERTURA PROGRAMA PALIATIVOS -1.546035e+13   \n",
      "35           Reclamacion_Desc_TRATAMIENTO AMBULATORIO -1.546035e+13   \n",
      "25           Reclamacion_Desc_EXAMENES DE DIAGNOSTICO -1.546035e+13   \n",
      "31                             Reclamacion_Desc_OTROS -1.546035e+13   \n",
      "28                    Reclamacion_Desc_INFILTRACIONES -1.546035e+13   \n",
      "21             Reclamacion_Desc_CONSULTA DE URGENCIAS -1.546035e+13   \n",
      "29               Reclamacion_Desc_LABORATORIO CLINICO -1.546035e+13   \n",
      "23              Reclamacion_Desc_CONSULTAS PRENATALES -1.546035e+13   \n",
      "34            Reclamacion_Desc_TRASLADO EN AMBULANCIA -1.546035e+13   \n",
      "38          Reclamacion_Desc_TRATAMIENTOS ESPECIFICOS -1.546035e+13   \n",
      "39                        Reclamacion_Desc_VACUNACION -1.546035e+13   \n",
      "33                   Reclamacion_Desc_Sin Informacion -1.546035e+13   \n",
      "22                  Reclamacion_Desc_CONSULTA EXTERNA -1.546035e+13   \n",
      "30                       Reclamacion_Desc_ODONTOLOGÍA -1.546035e+13   \n",
      "26            Reclamacion_Desc_FISIOTERAPIA ILIMITADA -1.546035e+13   \n",
      "45                                       DIABETES_1.0 -1.099240e+15   \n",
      "44                                       DIABETES_0.0 -1.099240e+15   \n",
      "46                                   HIPERTENSION_0.0 -1.334712e+15   \n",
      "47                                   HIPERTENSION_1.0 -1.334712e+15   \n",
      "11                                   rango_edad_90-99 -4.300800e+15   \n",
      "10                                   rango_edad_80-89 -4.300800e+15   \n",
      "9                                    rango_edad_70-79 -4.300800e+15   \n",
      "8                                    rango_edad_60-69 -4.300800e+15   \n",
      "2                                      rango_edad_0-1 -4.300800e+15   \n",
      "7                                    rango_edad_30-59 -4.300800e+15   \n",
      "4                                     rango_edad_100+ -4.300800e+15   \n",
      "6                                    rango_edad_19-29 -4.300800e+15   \n",
      "5                                    rango_edad_13-18 -4.300800e+15   \n",
      "3                                     rango_edad_1-12 -4.300800e+15   \n",
      "41                                         CANCER_1.0 -8.032765e+15   \n",
      "40                                         CANCER_0.0 -8.032765e+15   \n",
      "43                                           EPOC_1.0 -1.533513e+16   \n",
      "42                                           EPOC_0.0 -1.533513e+16   \n",
      "12                   Regional_desc_REGIONAL ANTIOQUIA -2.258615e+16   \n",
      "15                       Regional_desc_REGIONAL NORTE -2.258615e+16   \n",
      "13                      Regional_desc_REGIONAL CENTRO -2.258615e+16   \n",
      "16                   Regional_desc_REGIONAL OCCIDENTE -2.258615e+16   \n",
      "14                Regional_desc_REGIONAL EJE CAFETERO -2.258615e+16   \n",
      "\n",
      "      Intercepto  \n",
      "49  4.558844e+16  \n",
      "48  4.558844e+16  \n",
      "1   4.558844e+16  \n",
      "0   4.558844e+16  \n",
      "37  4.558844e+16  \n",
      "17  4.558844e+16  \n",
      "27  4.558844e+16  \n",
      "36  4.558844e+16  \n",
      "24  4.558844e+16  \n",
      "32  4.558844e+16  \n",
      "19  4.558844e+16  \n",
      "18  4.558844e+16  \n",
      "20  4.558844e+16  \n",
      "35  4.558844e+16  \n",
      "25  4.558844e+16  \n",
      "31  4.558844e+16  \n",
      "28  4.558844e+16  \n",
      "21  4.558844e+16  \n",
      "29  4.558844e+16  \n",
      "23  4.558844e+16  \n",
      "34  4.558844e+16  \n",
      "38  4.558844e+16  \n",
      "39  4.558844e+16  \n",
      "33  4.558844e+16  \n",
      "22  4.558844e+16  \n",
      "30  4.558844e+16  \n",
      "26  4.558844e+16  \n",
      "45  4.558844e+16  \n",
      "44  4.558844e+16  \n",
      "46  4.558844e+16  \n",
      "47  4.558844e+16  \n",
      "11  4.558844e+16  \n",
      "10  4.558844e+16  \n",
      "9   4.558844e+16  \n",
      "8   4.558844e+16  \n",
      "2   4.558844e+16  \n",
      "7   4.558844e+16  \n",
      "4   4.558844e+16  \n",
      "6   4.558844e+16  \n",
      "5   4.558844e+16  \n",
      "3   4.558844e+16  \n",
      "41  4.558844e+16  \n",
      "40  4.558844e+16  \n",
      "43  4.558844e+16  \n",
      "42  4.558844e+16  \n",
      "12  4.558844e+16  \n",
      "15  4.558844e+16  \n",
      "13  4.558844e+16  \n",
      "16  4.558844e+16  \n",
      "14  4.558844e+16  \n"
     ]
    }
   ],
   "source": [
    "############### Predicciones ###############\n",
    "from sklearn.metrics import mean_squared_error  # RMSE debe colocar squared=False\n",
    "from sklearn.metrics import mean_absolute_error, r2_score\n",
    "\n",
    "# Predicciones\n",
    "y_pred = best_model.predict(X_test)\n",
    "\n",
    "print(\n",
    "    f\"RMSE(test) = {mean_squared_error(y_test, y_pred, squared=False):.4f} en un conjunto de {len(y_test)} observaciones\"\n",
    ")\n",
    "\n",
    "print(\n",
    "    f\"MAE(test) = {mean_absolute_error(y_test, y_pred):.4f} en un conjunto de {len(y_test)} observaciones\"\n",
    ")\n",
    "print(\n",
    "    f\"R2(test) = {r2_score(y_test, y_pred):.4f} en un conjunto de {len(y_test)} observaciones\"\n",
    ")\n",
    "\n",
    "# Tabla de importancia de variables\n",
    "if best_model == models[\"LinearRegression\"]:  # Si es regresión lineal\n",
    "    importancia = best_model.coef_\n",
    "    nombres = X_train.columns\n",
    "    df_importancia = pd.DataFrame(\n",
    "        {\n",
    "            \"Variable\": nombres,\n",
    "            \"Importancia\": importancia,\n",
    "            \"Intercepto\": best_model.intercept_,\n",
    "        }\n",
    "    )\n",
    "    df_importancia = df_importancia.sort_values(\"Importancia\", ascending=False)\n",
    "    df_importancia\n",
    "else:\n",
    "    importancia = best_model.feature_importances_  # Si es otro modelo\n",
    "    nombres = X_train.columns\n",
    "    df_importancia = pd.DataFrame({\"Variable\": nombres, \"Importancia\": importancia})\n",
    "    df_importancia = df_importancia.sort_values(\"Importancia\", ascending=False)\n",
    "    df_importancia\n",
    "\n",
    "print(df_importancia.head(50))"
   ]
  },
  {
   "cell_type": "code",
   "execution_count": 66,
   "metadata": {},
   "outputs": [],
   "source": [
    "# Exportar modelo a csv para usar en el dashboard\n",
    "df_importancia.to_csv(\n",
    "    \"data/df_importancia_p.csv\", index=False, sep=\";\", decimal=\",\", encoding=\"utf-8 sig\"\n",
    ")"
   ]
  },
  {
   "cell_type": "code",
   "execution_count": 67,
   "metadata": {},
   "outputs": [
    {
     "data": {
      "text/html": [
       "<div>\n",
       "<style scoped>\n",
       "    .dataframe tbody tr th:only-of-type {\n",
       "        vertical-align: middle;\n",
       "    }\n",
       "\n",
       "    .dataframe tbody tr th {\n",
       "        vertical-align: top;\n",
       "    }\n",
       "\n",
       "    .dataframe thead th {\n",
       "        text-align: right;\n",
       "    }\n",
       "</style>\n",
       "<table border=\"1\" class=\"dataframe\">\n",
       "  <thead>\n",
       "    <tr style=\"text-align: right;\">\n",
       "      <th></th>\n",
       "      <th>Sexo</th>\n",
       "      <th>rango_edad</th>\n",
       "      <th>Regional_desc</th>\n",
       "      <th>target</th>\n",
       "      <th>Reclamacion_Desc</th>\n",
       "      <th>CANCER</th>\n",
       "      <th>EPOC</th>\n",
       "      <th>DIABETES</th>\n",
       "      <th>HIPERTENSION</th>\n",
       "      <th>ENF_CARDIOVASCULAR</th>\n",
       "    </tr>\n",
       "  </thead>\n",
       "  <tbody>\n",
       "    <tr>\n",
       "      <th>521114</th>\n",
       "      <td>M</td>\n",
       "      <td>1-12</td>\n",
       "      <td>REGIONAL OCCIDENTE</td>\n",
       "      <td>85312.0</td>\n",
       "      <td>CONSULTA EXTERNA</td>\n",
       "      <td>0.0</td>\n",
       "      <td>0.0</td>\n",
       "      <td>0.0</td>\n",
       "      <td>0.0</td>\n",
       "      <td>0.0</td>\n",
       "    </tr>\n",
       "  </tbody>\n",
       "</table>\n",
       "</div>"
      ],
      "text/plain": [
       "       Sexo rango_edad       Regional_desc   target  Reclamacion_Desc CANCER  \\\n",
       "521114    M       1-12  REGIONAL OCCIDENTE  85312.0  CONSULTA EXTERNA    0.0   \n",
       "\n",
       "       EPOC DIABETES HIPERTENSION ENF_CARDIOVASCULAR  \n",
       "521114  0.0      0.0          0.0                0.0  "
      ]
     },
     "execution_count": 67,
     "metadata": {},
     "output_type": "execute_result"
    }
   ],
   "source": [
    "df.sample(1)"
   ]
  },
  {
   "cell_type": "markdown",
   "metadata": {},
   "source": [
    "# Expuestos"
   ]
  },
  {
   "cell_type": "code",
   "execution_count": 190,
   "metadata": {},
   "outputs": [],
   "source": [
    "# Crear columna llamada expuestos que sea la suma de los usuarios que tengan exactamente las mismas caracteristicas en todas las columnas\n",
    "df1[\"expuestos\"] = df1.groupby(\n",
    "    [\n",
    "        \"Sexo\",\n",
    "        \"rango_edad\",\n",
    "        \"Regional_desc\",\n",
    "        \"Reclamacion_Desc\",\n",
    "        \"CANCER\",\n",
    "        \"EPOC\",\n",
    "        \"DIABETES\",\n",
    "        \"HIPERTENSION\",\n",
    "        \"ENF_CARDIOVASCULAR\",\n",
    "    ]\n",
    ")[\"Afiliado_Id\"].transform(\"nunique\")\n",
    "\n",
    "# Eliminar columna target\n",
    "df1 = df1.drop(\n",
    "    [\n",
    "        \"target\",\n",
    "        \"Afiliado_Id\",\n",
    "    ],\n",
    "    axis=1,\n",
    ")\n",
    "\n",
    "# Eliminar duplicados\n",
    "df1 = df1.drop_duplicates()\n",
    "\n",
    "\n",
    "# Los que en cancer dicen 1 cambiar a \"SI CANCER\", los que dicen 0 cambiar a \"NO CANCER\"\n",
    "df1[\"CANCER\"] = df1[\"CANCER\"].replace(1, \"SI CANCER\")\n",
    "df1[\"CANCER\"] = df1[\"CANCER\"].replace(0, \"NO CANCER\")\n",
    "\n",
    "df1[\"EPOC\"] = df1[\"EPOC\"].replace(1, \"SI EPOC\")\n",
    "df1[\"EPOC\"] = df1[\"EPOC\"].replace(0, \"NO EPOC\")\n",
    "\n",
    "df1[\"DIABETES\"] = df1[\"DIABETES\"].replace(1, \"SI DIABETES\")\n",
    "df1[\"DIABETES\"] = df1[\"DIABETES\"].replace(0, \"NO DIABETES\")\n",
    "\n",
    "df1[\"HIPERTENSION\"] = df1[\"HIPERTENSION\"].replace(1, \"SI HIPERTENSO\")\n",
    "df1[\"HIPERTENSION\"] = df1[\"HIPERTENSION\"].replace(0, \"NO HIPERTENSO\")\n",
    "\n",
    "df1[\"ENF_CARDIOVASCULAR\"] = df1[\"ENF_CARDIOVASCULAR\"].replace(\n",
    "    1, \"SI ENF CARDIOVASCULAR\"\n",
    ")\n",
    "df1[\"ENF_CARDIOVASCULAR\"] = df1[\"ENF_CARDIOVASCULAR\"].replace(\n",
    "    0, \"NO ENF CARDIOVASCULAR\"\n",
    ")\n",
    "\n",
    "# Donde diga F cambiar a FEMENINO, donde diga M cambiar a MASCULINO\n",
    "df1[\"Sexo\"] = df1[\"Sexo\"].replace(\"F\", \"FEMENINO\")\n",
    "df1[\"Sexo\"] = df1[\"Sexo\"].replace(\"M\", \"MASCULINO\")\n",
    "\n",
    "\n",
    "# Exportar csv\n",
    "df1.to_csv(\"data/expuestos.csv\", index=False, sep=\";\", decimal=\",\")"
   ]
  },
  {
   "cell_type": "code",
   "execution_count": 184,
   "metadata": {},
   "outputs": [
    {
     "data": {
      "text/html": [
       "<div>\n",
       "<style scoped>\n",
       "    .dataframe tbody tr th:only-of-type {\n",
       "        vertical-align: middle;\n",
       "    }\n",
       "\n",
       "    .dataframe tbody tr th {\n",
       "        vertical-align: top;\n",
       "    }\n",
       "\n",
       "    .dataframe thead th {\n",
       "        text-align: right;\n",
       "    }\n",
       "</style>\n",
       "<table border=\"1\" class=\"dataframe\">\n",
       "  <thead>\n",
       "    <tr style=\"text-align: right;\">\n",
       "      <th></th>\n",
       "      <th>Sexo</th>\n",
       "      <th>rango_edad</th>\n",
       "      <th>Regional_desc</th>\n",
       "      <th>Reclamacion_Desc</th>\n",
       "      <th>CANCER</th>\n",
       "      <th>EPOC</th>\n",
       "      <th>DIABETES</th>\n",
       "      <th>HIPERTENSION</th>\n",
       "      <th>ENF_CARDIOVASCULAR</th>\n",
       "      <th>expuestos</th>\n",
       "    </tr>\n",
       "  </thead>\n",
       "  <tbody>\n",
       "    <tr>\n",
       "      <th>41</th>\n",
       "      <td>MASCULINO</td>\n",
       "      <td>60-69</td>\n",
       "      <td>REGIONAL OCCIDENTE</td>\n",
       "      <td>CONSULTA DE URGENCIAS</td>\n",
       "      <td>NO CANCER</td>\n",
       "      <td>NO EPOC</td>\n",
       "      <td>NO DIABETES</td>\n",
       "      <td>NO HIPERTENSO</td>\n",
       "      <td>NO ENF CARDIOVASCULAR</td>\n",
       "      <td>190</td>\n",
       "    </tr>\n",
       "    <tr>\n",
       "      <th>500</th>\n",
       "      <td>MASCULINO</td>\n",
       "      <td>60-69</td>\n",
       "      <td>REGIONAL OCCIDENTE</td>\n",
       "      <td>CONSULTA DE URGENCIAS</td>\n",
       "      <td>NO CANCER</td>\n",
       "      <td>NO EPOC</td>\n",
       "      <td>NO DIABETES</td>\n",
       "      <td>SI HIPERTENSO</td>\n",
       "      <td>NO ENF CARDIOVASCULAR</td>\n",
       "      <td>115</td>\n",
       "    </tr>\n",
       "    <tr>\n",
       "      <th>10961</th>\n",
       "      <td>MASCULINO</td>\n",
       "      <td>60-69</td>\n",
       "      <td>REGIONAL OCCIDENTE</td>\n",
       "      <td>CONSULTA DE URGENCIAS</td>\n",
       "      <td>NO CANCER</td>\n",
       "      <td>NO EPOC</td>\n",
       "      <td>SI DIABETES</td>\n",
       "      <td>SI HIPERTENSO</td>\n",
       "      <td>NO ENF CARDIOVASCULAR</td>\n",
       "      <td>22</td>\n",
       "    </tr>\n",
       "    <tr>\n",
       "      <th>11795</th>\n",
       "      <td>MASCULINO</td>\n",
       "      <td>60-69</td>\n",
       "      <td>REGIONAL OCCIDENTE</td>\n",
       "      <td>CONSULTA DE URGENCIAS</td>\n",
       "      <td>SI CANCER</td>\n",
       "      <td>NO EPOC</td>\n",
       "      <td>SI DIABETES</td>\n",
       "      <td>SI HIPERTENSO</td>\n",
       "      <td>NO ENF CARDIOVASCULAR</td>\n",
       "      <td>3</td>\n",
       "    </tr>\n",
       "    <tr>\n",
       "      <th>12053</th>\n",
       "      <td>MASCULINO</td>\n",
       "      <td>60-69</td>\n",
       "      <td>REGIONAL OCCIDENTE</td>\n",
       "      <td>CONSULTA DE URGENCIAS</td>\n",
       "      <td>SI CANCER</td>\n",
       "      <td>NO EPOC</td>\n",
       "      <td>NO DIABETES</td>\n",
       "      <td>NO HIPERTENSO</td>\n",
       "      <td>NO ENF CARDIOVASCULAR</td>\n",
       "      <td>22</td>\n",
       "    </tr>\n",
       "    <tr>\n",
       "      <th>25524</th>\n",
       "      <td>MASCULINO</td>\n",
       "      <td>60-69</td>\n",
       "      <td>REGIONAL OCCIDENTE</td>\n",
       "      <td>CONSULTA DE URGENCIAS</td>\n",
       "      <td>NO CANCER</td>\n",
       "      <td>NO EPOC</td>\n",
       "      <td>NO DIABETES</td>\n",
       "      <td>SI HIPERTENSO</td>\n",
       "      <td>SI ENF CARDIOVASCULAR</td>\n",
       "      <td>10</td>\n",
       "    </tr>\n",
       "    <tr>\n",
       "      <th>48578</th>\n",
       "      <td>MASCULINO</td>\n",
       "      <td>60-69</td>\n",
       "      <td>REGIONAL OCCIDENTE</td>\n",
       "      <td>CONSULTA DE URGENCIAS</td>\n",
       "      <td>SI CANCER</td>\n",
       "      <td>NO EPOC</td>\n",
       "      <td>NO DIABETES</td>\n",
       "      <td>SI HIPERTENSO</td>\n",
       "      <td>NO ENF CARDIOVASCULAR</td>\n",
       "      <td>11</td>\n",
       "    </tr>\n",
       "    <tr>\n",
       "      <th>52008</th>\n",
       "      <td>MASCULINO</td>\n",
       "      <td>60-69</td>\n",
       "      <td>REGIONAL OCCIDENTE</td>\n",
       "      <td>CONSULTA DE URGENCIAS</td>\n",
       "      <td>NO CANCER</td>\n",
       "      <td>NO EPOC</td>\n",
       "      <td>SI DIABETES</td>\n",
       "      <td>NO HIPERTENSO</td>\n",
       "      <td>NO ENF CARDIOVASCULAR</td>\n",
       "      <td>5</td>\n",
       "    </tr>\n",
       "    <tr>\n",
       "      <th>56479</th>\n",
       "      <td>MASCULINO</td>\n",
       "      <td>60-69</td>\n",
       "      <td>REGIONAL OCCIDENTE</td>\n",
       "      <td>CONSULTA DE URGENCIAS</td>\n",
       "      <td>NO CANCER</td>\n",
       "      <td>NO EPOC</td>\n",
       "      <td>SI DIABETES</td>\n",
       "      <td>SI HIPERTENSO</td>\n",
       "      <td>SI ENF CARDIOVASCULAR</td>\n",
       "      <td>4</td>\n",
       "    </tr>\n",
       "    <tr>\n",
       "      <th>68803</th>\n",
       "      <td>MASCULINO</td>\n",
       "      <td>60-69</td>\n",
       "      <td>REGIONAL OCCIDENTE</td>\n",
       "      <td>CONSULTA DE URGENCIAS</td>\n",
       "      <td>SI CANCER</td>\n",
       "      <td>NO EPOC</td>\n",
       "      <td>NO DIABETES</td>\n",
       "      <td>SI HIPERTENSO</td>\n",
       "      <td>SI ENF CARDIOVASCULAR</td>\n",
       "      <td>3</td>\n",
       "    </tr>\n",
       "    <tr>\n",
       "      <th>126108</th>\n",
       "      <td>MASCULINO</td>\n",
       "      <td>60-69</td>\n",
       "      <td>REGIONAL OCCIDENTE</td>\n",
       "      <td>CONSULTA DE URGENCIAS</td>\n",
       "      <td>NO CANCER</td>\n",
       "      <td>SI EPOC</td>\n",
       "      <td>SI DIABETES</td>\n",
       "      <td>SI HIPERTENSO</td>\n",
       "      <td>NO ENF CARDIOVASCULAR</td>\n",
       "      <td>2</td>\n",
       "    </tr>\n",
       "    <tr>\n",
       "      <th>129326</th>\n",
       "      <td>MASCULINO</td>\n",
       "      <td>60-69</td>\n",
       "      <td>REGIONAL OCCIDENTE</td>\n",
       "      <td>CONSULTA DE URGENCIAS</td>\n",
       "      <td>NO CANCER</td>\n",
       "      <td>SI EPOC</td>\n",
       "      <td>NO DIABETES</td>\n",
       "      <td>NO HIPERTENSO</td>\n",
       "      <td>NO ENF CARDIOVASCULAR</td>\n",
       "      <td>5</td>\n",
       "    </tr>\n",
       "    <tr>\n",
       "      <th>145995</th>\n",
       "      <td>MASCULINO</td>\n",
       "      <td>60-69</td>\n",
       "      <td>REGIONAL OCCIDENTE</td>\n",
       "      <td>CONSULTA DE URGENCIAS</td>\n",
       "      <td>SI CANCER</td>\n",
       "      <td>NO EPOC</td>\n",
       "      <td>SI DIABETES</td>\n",
       "      <td>NO HIPERTENSO</td>\n",
       "      <td>NO ENF CARDIOVASCULAR</td>\n",
       "      <td>2</td>\n",
       "    </tr>\n",
       "    <tr>\n",
       "      <th>205860</th>\n",
       "      <td>MASCULINO</td>\n",
       "      <td>60-69</td>\n",
       "      <td>REGIONAL OCCIDENTE</td>\n",
       "      <td>CONSULTA DE URGENCIAS</td>\n",
       "      <td>SI CANCER</td>\n",
       "      <td>NO EPOC</td>\n",
       "      <td>SI DIABETES</td>\n",
       "      <td>SI HIPERTENSO</td>\n",
       "      <td>SI ENF CARDIOVASCULAR</td>\n",
       "      <td>3</td>\n",
       "    </tr>\n",
       "    <tr>\n",
       "      <th>220730</th>\n",
       "      <td>MASCULINO</td>\n",
       "      <td>60-69</td>\n",
       "      <td>REGIONAL OCCIDENTE</td>\n",
       "      <td>CONSULTA DE URGENCIAS</td>\n",
       "      <td>NO CANCER</td>\n",
       "      <td>SI EPOC</td>\n",
       "      <td>NO DIABETES</td>\n",
       "      <td>SI HIPERTENSO</td>\n",
       "      <td>NO ENF CARDIOVASCULAR</td>\n",
       "      <td>4</td>\n",
       "    </tr>\n",
       "    <tr>\n",
       "      <th>330138</th>\n",
       "      <td>MASCULINO</td>\n",
       "      <td>60-69</td>\n",
       "      <td>REGIONAL OCCIDENTE</td>\n",
       "      <td>CONSULTA DE URGENCIAS</td>\n",
       "      <td>NO CANCER</td>\n",
       "      <td>SI EPOC</td>\n",
       "      <td>SI DIABETES</td>\n",
       "      <td>NO HIPERTENSO</td>\n",
       "      <td>NO ENF CARDIOVASCULAR</td>\n",
       "      <td>2</td>\n",
       "    </tr>\n",
       "    <tr>\n",
       "      <th>472886</th>\n",
       "      <td>MASCULINO</td>\n",
       "      <td>60-69</td>\n",
       "      <td>REGIONAL OCCIDENTE</td>\n",
       "      <td>CONSULTA DE URGENCIAS</td>\n",
       "      <td>SI CANCER</td>\n",
       "      <td>SI EPOC</td>\n",
       "      <td>NO DIABETES</td>\n",
       "      <td>NO HIPERTENSO</td>\n",
       "      <td>NO ENF CARDIOVASCULAR</td>\n",
       "      <td>1</td>\n",
       "    </tr>\n",
       "    <tr>\n",
       "      <th>762529</th>\n",
       "      <td>MASCULINO</td>\n",
       "      <td>60-69</td>\n",
       "      <td>REGIONAL OCCIDENTE</td>\n",
       "      <td>CONSULTA DE URGENCIAS</td>\n",
       "      <td>NO CANCER</td>\n",
       "      <td>NO EPOC</td>\n",
       "      <td>NO DIABETES</td>\n",
       "      <td>NO HIPERTENSO</td>\n",
       "      <td>SI ENF CARDIOVASCULAR</td>\n",
       "      <td>2</td>\n",
       "    </tr>\n",
       "  </tbody>\n",
       "</table>\n",
       "</div>"
      ],
      "text/plain": [
       "             Sexo rango_edad       Regional_desc       Reclamacion_Desc  \\\n",
       "41      MASCULINO      60-69  REGIONAL OCCIDENTE  CONSULTA DE URGENCIAS   \n",
       "500     MASCULINO      60-69  REGIONAL OCCIDENTE  CONSULTA DE URGENCIAS   \n",
       "10961   MASCULINO      60-69  REGIONAL OCCIDENTE  CONSULTA DE URGENCIAS   \n",
       "11795   MASCULINO      60-69  REGIONAL OCCIDENTE  CONSULTA DE URGENCIAS   \n",
       "12053   MASCULINO      60-69  REGIONAL OCCIDENTE  CONSULTA DE URGENCIAS   \n",
       "25524   MASCULINO      60-69  REGIONAL OCCIDENTE  CONSULTA DE URGENCIAS   \n",
       "48578   MASCULINO      60-69  REGIONAL OCCIDENTE  CONSULTA DE URGENCIAS   \n",
       "52008   MASCULINO      60-69  REGIONAL OCCIDENTE  CONSULTA DE URGENCIAS   \n",
       "56479   MASCULINO      60-69  REGIONAL OCCIDENTE  CONSULTA DE URGENCIAS   \n",
       "68803   MASCULINO      60-69  REGIONAL OCCIDENTE  CONSULTA DE URGENCIAS   \n",
       "126108  MASCULINO      60-69  REGIONAL OCCIDENTE  CONSULTA DE URGENCIAS   \n",
       "129326  MASCULINO      60-69  REGIONAL OCCIDENTE  CONSULTA DE URGENCIAS   \n",
       "145995  MASCULINO      60-69  REGIONAL OCCIDENTE  CONSULTA DE URGENCIAS   \n",
       "205860  MASCULINO      60-69  REGIONAL OCCIDENTE  CONSULTA DE URGENCIAS   \n",
       "220730  MASCULINO      60-69  REGIONAL OCCIDENTE  CONSULTA DE URGENCIAS   \n",
       "330138  MASCULINO      60-69  REGIONAL OCCIDENTE  CONSULTA DE URGENCIAS   \n",
       "472886  MASCULINO      60-69  REGIONAL OCCIDENTE  CONSULTA DE URGENCIAS   \n",
       "762529  MASCULINO      60-69  REGIONAL OCCIDENTE  CONSULTA DE URGENCIAS   \n",
       "\n",
       "           CANCER     EPOC     DIABETES   HIPERTENSION     ENF_CARDIOVASCULAR  \\\n",
       "41      NO CANCER  NO EPOC  NO DIABETES  NO HIPERTENSO  NO ENF CARDIOVASCULAR   \n",
       "500     NO CANCER  NO EPOC  NO DIABETES  SI HIPERTENSO  NO ENF CARDIOVASCULAR   \n",
       "10961   NO CANCER  NO EPOC  SI DIABETES  SI HIPERTENSO  NO ENF CARDIOVASCULAR   \n",
       "11795   SI CANCER  NO EPOC  SI DIABETES  SI HIPERTENSO  NO ENF CARDIOVASCULAR   \n",
       "12053   SI CANCER  NO EPOC  NO DIABETES  NO HIPERTENSO  NO ENF CARDIOVASCULAR   \n",
       "25524   NO CANCER  NO EPOC  NO DIABETES  SI HIPERTENSO  SI ENF CARDIOVASCULAR   \n",
       "48578   SI CANCER  NO EPOC  NO DIABETES  SI HIPERTENSO  NO ENF CARDIOVASCULAR   \n",
       "52008   NO CANCER  NO EPOC  SI DIABETES  NO HIPERTENSO  NO ENF CARDIOVASCULAR   \n",
       "56479   NO CANCER  NO EPOC  SI DIABETES  SI HIPERTENSO  SI ENF CARDIOVASCULAR   \n",
       "68803   SI CANCER  NO EPOC  NO DIABETES  SI HIPERTENSO  SI ENF CARDIOVASCULAR   \n",
       "126108  NO CANCER  SI EPOC  SI DIABETES  SI HIPERTENSO  NO ENF CARDIOVASCULAR   \n",
       "129326  NO CANCER  SI EPOC  NO DIABETES  NO HIPERTENSO  NO ENF CARDIOVASCULAR   \n",
       "145995  SI CANCER  NO EPOC  SI DIABETES  NO HIPERTENSO  NO ENF CARDIOVASCULAR   \n",
       "205860  SI CANCER  NO EPOC  SI DIABETES  SI HIPERTENSO  SI ENF CARDIOVASCULAR   \n",
       "220730  NO CANCER  SI EPOC  NO DIABETES  SI HIPERTENSO  NO ENF CARDIOVASCULAR   \n",
       "330138  NO CANCER  SI EPOC  SI DIABETES  NO HIPERTENSO  NO ENF CARDIOVASCULAR   \n",
       "472886  SI CANCER  SI EPOC  NO DIABETES  NO HIPERTENSO  NO ENF CARDIOVASCULAR   \n",
       "762529  NO CANCER  NO EPOC  NO DIABETES  NO HIPERTENSO  SI ENF CARDIOVASCULAR   \n",
       "\n",
       "        expuestos  \n",
       "41            190  \n",
       "500           115  \n",
       "10961          22  \n",
       "11795           3  \n",
       "12053          22  \n",
       "25524          10  \n",
       "48578          11  \n",
       "52008           5  \n",
       "56479           4  \n",
       "68803           3  \n",
       "126108          2  \n",
       "129326          5  \n",
       "145995          2  \n",
       "205860          3  \n",
       "220730          4  \n",
       "330138          2  \n",
       "472886          1  \n",
       "762529          2  "
      ]
     },
     "execution_count": 184,
     "metadata": {},
     "output_type": "execute_result"
    }
   ],
   "source": [
    "# ver los registros de rango_edad 60-69 y masculino, regional occidente y consulta de urgencias\n",
    "df1.loc[\n",
    "    (df1[\"rango_edad\"] == \"60-69\")\n",
    "    & (df1[\"Sexo\"] == \"MASCULINO\")\n",
    "    & (df1[\"Regional_desc\"] == \"REGIONAL OCCIDENTE\")\n",
    "    & (df1[\"Reclamacion_Desc\"] == \"CONSULTA DE URGENCIAS\")\n",
    "]"
   ]
  },
  {
   "cell_type": "markdown",
   "metadata": {},
   "source": [
    "Para sacar los expuestos agrupamos los usuarios que cumplen las siguientes condiciones:\"Sexo\",\"rango_edad\",\"Regional_desc\", \"Reclamacion_desc\",\"CANCER\",\"EPOC\",\"DIABETES\",\"HIPERTENSION\",\"ENF_CARDIOVASCULAR\""
   ]
  },
  {
   "cell_type": "markdown",
   "metadata": {},
   "source": [
    "# Optimización de hiperparámetros"
   ]
  },
  {
   "cell_type": "code",
   "execution_count": 12,
   "metadata": {},
   "outputs": [
    {
     "name": "stdout",
     "output_type": "stream",
     "text": [
      "  0%|          | 0/100 [00:00<?, ?trial/s, best loss=?]"
     ]
    },
    {
     "name": "stdout",
     "output_type": "stream",
     "text": [
      "100%|██████████| 100/100 [50:22<00:00, 30.22s/trial, best loss: 2.6497189273496686]\n",
      "{'colsample_bytree': 0.727111540631194, 'learning_rate': 0.043510496859195225, 'max_depth': 0, 'n_estimators': 1, 'subsample': 0.8652461409001582}\n"
     ]
    }
   ],
   "source": [
    "from hyperopt import hp, fmin, tpe, STATUS_OK, Trials\n",
    "from sklearn.model_selection import cross_val_score\n",
    "import xgboost as xgb\n",
    "import numpy as np\n",
    "\n",
    "# Definir el espacio de búsqueda\n",
    "space = {\n",
    "    \"learning_rate\": hp.uniform(\"learning_rate\", 0.01, 0.3),\n",
    "    \"n_estimators\": hp.choice(\"n_estimators\", [100, 200, 300]),\n",
    "    \"max_depth\": hp.choice(\"max_depth\", [3, 6, 9]),\n",
    "    \"subsample\": hp.uniform(\"subsample\", 0.5, 1),\n",
    "    \"colsample_bytree\": hp.uniform(\"colsample_bytree\", 0.5, 1),\n",
    "}\n",
    "\n",
    "\n",
    "# Definir la función objetivo\n",
    "def objective(space):\n",
    "    model = xgb.XGBRegressor(\n",
    "        learning_rate=space[\"learning_rate\"],\n",
    "        n_estimators=int(space[\"n_estimators\"]),\n",
    "        max_depth=int(space[\"max_depth\"]),\n",
    "        subsample=space[\"subsample\"],\n",
    "        colsample_bytree=space[\"colsample_bytree\"],\n",
    "    )\n",
    "\n",
    "    # Calcular el RMSE medio a través de la validación cruzada de 5 pliegues\n",
    "    scores = cross_val_score(\n",
    "        model, X_train, y_train, cv=5, scoring=\"neg_root_mean_squared_error\"\n",
    "    )\n",
    "    rmse = -scores.mean()\n",
    "\n",
    "    return {\"loss\": rmse, \"status\": STATUS_OK}\n",
    "\n",
    "\n",
    "# Ejecutar la optimización\n",
    "trials = Trials()\n",
    "best = fmin(\n",
    "    fn=objective,\n",
    "    space=space,\n",
    "    algo=tpe.suggest,\n",
    "    max_evals=100,\n",
    "    trials=trials,\n",
    ")\n",
    "\n",
    "print(best)"
   ]
  },
  {
   "cell_type": "code",
   "execution_count": 199,
   "metadata": {},
   "outputs": [
    {
     "name": "stdout",
     "output_type": "stream",
     "text": [
      "RMSE(test) = 1878437.1249 en un conjunto de 191331 observaciones\n"
     ]
    }
   ],
   "source": [
    "# Fit en el mejor modelo\n",
    "best_model = xgb.XGBRegressor(\n",
    "    learning_rate=best[\"learning_rate\"],\n",
    "    n_estimators=200,\n",
    "    max_depth=3,\n",
    "    subsample=best[\"subsample\"],\n",
    "    colsample_bytree=best[\"colsample_bytree\"],\n",
    "    random_state=42,\n",
    ")\n",
    "\n",
    "best_model.fit(X_train, y_train)\n",
    "\n",
    "# Predicciones\n",
    "y_pred = best_model.predict(X_test)\n",
    "\n",
    "print(\n",
    "    f\"RMSE(test) = {mean_squared_error(y_test, y_pred, squared=False):.4f} en un conjunto de {len(y_test)} observaciones\"\n",
    ")\n",
    "\n",
    "print(\n",
    "    f\"MAE(test) = {mean_absolute_error(y_test, y_pred):.4f} en un conjunto de {len(y_test)} observaciones\"\n",
    ")\n",
    "print(\n",
    "    f\"R2(test) = {r2_score(y_test, y_pred):.4f} en un conjunto de {len(y_test)} observaciones\"\n",
    ")\n",
    "\n",
    "# Tabla de importancia de variables\n",
    "if best_model == models[\"LinearRegression\"]:  # Si es regresión lineal\n",
    "    importancia = best_model.coef_\n",
    "    nombres = X_train.columns\n",
    "    df_importancia = pd.DataFrame(\n",
    "        {\n",
    "            \"Variable\": nombres,\n",
    "            \"Importancia\": importancia,\n",
    "            \"Intercepto\": best_model.intercept_,\n",
    "        }\n",
    "    )\n",
    "    df_importancia = df_importancia.sort_values(\"Importancia\", ascending=False)\n",
    "    df_importancia\n",
    "else:\n",
    "    importancia = best_model.feature_importances_  # Si es otro modelo\n",
    "    nombres = X_train.columns\n",
    "    df_importancia = pd.DataFrame({\"Variable\": nombres, \"Importancia\": importancia})\n",
    "    df_importancia = df_importancia.sort_values(\"Importancia\", ascending=False)\n",
    "    df_importancia\n",
    "\n",
    "print(df_importancia.head(50))"
   ]
  }
 ],
 "metadata": {
  "kernelspec": {
   "display_name": "Python 3",
   "language": "python",
   "name": "python3"
  },
  "language_info": {
   "codemirror_mode": {
    "name": "ipython",
    "version": 3
   },
   "file_extension": ".py",
   "mimetype": "text/x-python",
   "name": "python",
   "nbconvert_exporter": "python",
   "pygments_lexer": "ipython3",
   "version": "3.11.4"
  }
 },
 "nbformat": 4,
 "nbformat_minor": 2
}
