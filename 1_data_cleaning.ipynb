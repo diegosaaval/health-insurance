{
 "cells": [
  {
   "cell_type": "code",
   "execution_count": 17,
   "metadata": {},
   "outputs": [],
   "source": [
    "# Cargar bases de datos de carpeta data\n",
    "import pandas as pd\n",
    "\n",
    "# Base de datos\n",
    "df1 = pd.read_csv(\"data/BD_Asegurados_Expuestos.csv\", sep=\";\")\n",
    "df2 = pd.read_csv(\"data/BD_Diagnostico.csv\", sep=\";\")\n",
    "df3 = pd.read_csv(\"data/BD_Genero.csv\", sep=\";\")\n",
    "df4 = pd.read_csv(\"data/BD_Reclamaciones.csv\", sep=\";\")\n",
    "df5 = pd.read_csv(\"data/BD_Regional.csv\", sep=\";\")\n",
    "df6 = pd.read_csv(\"data/BD_SocioDemograficas.csv\", sep=\";\", low_memory=False)\n",
    "df7 = pd.read_csv(\"data/BD_UtilizacionesMedicas.csv\", sep=\";\")\n",
    "fechas = pd.read_csv(\"data/fechas.csv\", sep=\";\")"
   ]
  },
  {
   "cell_type": "markdown",
   "metadata": {},
   "source": [
    "# Unión bases de datos"
   ]
  },
  {
   "cell_type": "markdown",
   "metadata": {},
   "source": [
    "Procesamiento de fechas\n",
    "1. Se utiliza la funcion UNICOS en cada libro de excel\n",
    "2. Se pasan esos valores a un libro de excel llamado fechas en una sola columna\n",
    "4. Se vuelve a realizar la función UNICOS para obtener los unicos de todos los libros\n",
    "5. Se crea columna con fecha\n",
    "6. Se realiza unión de bases de datos"
   ]
  },
  {
   "cell_type": "code",
   "execution_count": 18,
   "metadata": {},
   "outputs": [],
   "source": [
    "################################ ASIGNACIÓN DE FECHAS CON BASE FECHAS ##################################\n",
    "# Fecha de inicio, cancelación y fin\n",
    "df1 = (\n",
    "    pd.merge(df1, fechas, left_on=\"FECHA_INICIO\", right_on=\"cod_fecha\", how=\"left\")\n",
    "    .merge(fechas, left_on=\"FECHA_CANCELACION\", right_on=\"cod_fecha\", how=\"left\")\n",
    "    .merge(fechas, left_on=\"FECHA_FIN\", right_on=\"cod_fecha\", how=\"left\")\n",
    "    .drop(\n",
    "        columns=[\n",
    "            \"cod_fecha\",\n",
    "            \"FECHA_INICIO\",\n",
    "            \"FECHA_FIN\",\n",
    "            \"FECHA_CANCELACION\",\n",
    "            \"cod_fecha\",\n",
    "            \"cod_fecha_x\",\n",
    "            \"cod_fecha_y\",\n",
    "        ]\n",
    "    )\n",
    "    .rename(\n",
    "        columns={\n",
    "            \"fecha_x\": \"FECHA_INICIO\",\n",
    "            \"fecha_y\": \"FECHA_CANCELACION\",\n",
    "            \"fecha\": \"FECHA_FIN\",\n",
    "        }\n",
    "    )\n",
    ")\n",
    "\n",
    "# Fecha de nacimiento\n",
    "df6 = (\n",
    "    pd.merge(df6, fechas, left_on=\"FechaNacimiento\", right_on=\"cod_fecha\", how=\"left\")\n",
    "    .drop(columns=[\"cod_fecha\", \"FechaNacimiento\"])\n",
    "    .rename(columns={\"fecha\": \"FechaNacimiento\"})\n",
    ")\n",
    "\n",
    "# Fecha de reclamación\n",
    "df7 = (\n",
    "    pd.merge(df7, fechas, left_on=\"Fecha_Reclamacion\", right_on=\"cod_fecha\", how=\"left\")\n",
    "    .drop(columns=[\"cod_fecha\", \"Fecha_Reclamacion\"])\n",
    "    .rename(columns={\"fecha\": \"Fecha_Reclamacion\"})\n",
    ")\n",
    "\n",
    "###############################  Convertir a datetime las columnas de fechas ###############################\n",
    "df1[\"FECHA_INICIO\"] = pd.to_datetime(df1[\"FECHA_INICIO\"], format=\"%d/%m/%Y\")\n",
    "df1[\"FECHA_CANCELACION\"] = pd.to_datetime(df1[\"FECHA_CANCELACION\"], format=\"%d/%m/%Y\")\n",
    "df1[\"FECHA_FIN\"] = pd.to_datetime(df1[\"FECHA_FIN\"], format=\"%d/%m/%Y\")\n",
    "df6[\"FechaNacimiento\"] = pd.to_datetime(df6[\"FechaNacimiento\"], format=\"%d/%m/%Y\")\n",
    "df7[\"Fecha_Reclamacion\"] = pd.to_datetime(df7[\"Fecha_Reclamacion\"], format=\"%d/%m/%Y\")"
   ]
  },
  {
   "cell_type": "code",
   "execution_count": 19,
   "metadata": {},
   "outputs": [
    {
     "data": {
      "text/plain": [
       "(894056, 22)"
      ]
     },
     "execution_count": 19,
     "metadata": {},
     "output_type": "execute_result"
    }
   ],
   "source": [
    "######################################### UNION DE BASES DE DATOS #########################################\n",
    "\n",
    "######################## df7 = Union de bases Diagnostico y reclamación ##############################\n",
    "\n",
    "df7 = pd.merge(df7, df2, on=\"Diagnostico_Codigo\", how=\"left\").merge(\n",
    "    df4, on=\"Reclamacion_Cd\", how=\"left\"\n",
    ")\n",
    "\n",
    "####################### Procesamiento para merge Regional_Id ##############################\n",
    "# Cambiar nombre de Regional a Regional_Id de df6\n",
    "df6 = df6.rename(columns={\"Regional\": \"Regional_Id\"})\n",
    "\n",
    "# Reemplazar de Regional_Id de df6 el #N/D por -1\n",
    "df6[\"Regional_Id\"] = df6[\"Regional_Id\"].replace(\"#N/D\", -1)\n",
    "\n",
    "# Convertir Regional_Id de df6 a object\n",
    "df6[\"Regional_Id\"] = df6[\"Regional_Id\"].astype(\"int64\")\n",
    "\n",
    "####################### df6 = Union de bases Sexo, Regional ##############################\n",
    "df6 = pd.merge(df6, df3, on=\"Sexo_Cd\", how=\"left\").merge(\n",
    "    df5, on=\"Regional_Id\", how=\"left\"\n",
    ")\n",
    "\n",
    "\n",
    "####################### Unión final ##############################\n",
    "df1 = df1.rename(columns={\"Asegurado_Id\": \"Afiliado_Id\"})\n",
    "\n",
    "# Union de df1, df6 y df7 con Asegurado_Id\n",
    "df = pd.merge(df7, df6, on=\"Afiliado_Id\", how=\"outer\").merge(\n",
    "    df1, on=\"Afiliado_Id\", how=\"outer\"\n",
    ")\n",
    "\n",
    "df.shape"
   ]
  },
  {
   "cell_type": "markdown",
   "metadata": {},
   "source": [
    "# Limpieza de datos"
   ]
  },
  {
   "cell_type": "code",
   "execution_count": 20,
   "metadata": {},
   "outputs": [
    {
     "data": {
      "text/plain": [
       "(638024, 20)"
      ]
     },
     "execution_count": 20,
     "metadata": {},
     "output_type": "execute_result"
    }
   ],
   "source": [
    "######################################### TRATAMIENTOS MENORES #########################################\n",
    "# Cambiar Sexo_Cd.1 por Sexo\n",
    "df = df.rename(columns={\"Sexo_Cd.1\": \"Sexo\"})\n",
    "\n",
    "# cambiar nombre columna Valor_Utilizaciones por Costo_Total_Utilizaciones\n",
    "df = df.rename(columns={\"Valor_Utilizaciones\": \"Costo_Total_Utilizaciones\"})\n",
    "\n",
    "\n",
    "######################################### LIMPIEZA #########################################\n",
    "# quitar categoría \"Sin información\" de Sexo (5 datos)\n",
    "df = df[df[\"Sexo\"] != \"Sin Informacion\"]\n",
    "\n",
    "# Quitar categoría \"Sin información\" de Regional_desc (acumulado 110)\n",
    "df = df[df[\"Regional_desc\"] != \"Sin Información\"]\n",
    "\n",
    "# Seleccionar solo los registros del 2019 (acumulado 70599)\n",
    "df = df[df[\"Fecha_Reclamacion\"].dt.year == 2019]\n",
    "\n",
    "\n",
    "######################################### CREACIÓN DE COLUMNAS #########################################\n",
    "# Crear columna con FechaNacimiento para edad\n",
    "df[\"Edad\"] = df[\"Fecha_Reclamacion\"].dt.year - df[\"FechaNacimiento\"].dt.year\n",
    "# Se eliminan las filas con Edad negativa (acumulado 73236)\n",
    "df = df[df[\"Edad\"] >= 0]\n",
    "\n",
    "\n",
    "# Columna con Valor_Utilizaciones / Numero_Utilizaciones\n",
    "df[\"Precio_Utilización\"] = df[\"Costo_Total_Utilizaciones\"] / df[\"Numero_Utilizaciones\"]\n",
    "\n",
    "# Cambiar nombre de columnas Numero_Utilizaciones por Cantidad_Utilizaciones y Valor_Utilizaciones por Costo_Total_Utilización\n",
    "df = df.rename(\n",
    "    columns={\n",
    "        \"Numero_Utilizaciones\": \"Cantidad_Utilizaciones\",\n",
    "    }\n",
    ")\n",
    "\n",
    "# Duración póliza = FECHA_FIN - FECHA_INICIO en días redondeando a 0 decimales\n",
    "df[\"Duración_Póliza\"] = (((df[\"FECHA_FIN\"] - df[\"FECHA_INICIO\"]).dt.days) / 30).round()\n",
    "\n",
    "# Columna por rangos de \"Duración_Póliza\" así: si es 0 = \"<= 0.5 Meses\", 1 = \"0.5-1.5 Meses\", 2 = \"1.5-2.5 Meses\", 3 = \"2.5-3.5 Meses\", 4 = \">= 3.5 Meses\"\n",
    "df[\"Duración_Póliza_Rango\"] = pd.cut(\n",
    "    df[\"Duración_Póliza\"],\n",
    "    bins=[-1, 0.5, 1.5, 2.5, 3.5, 100],\n",
    "    labels=[\n",
    "        \"<= 0.5 Meses\",\n",
    "        \"0.5-1.5 Meses\",\n",
    "        \"1.5-2.5 Meses\",\n",
    "        \"2.5-3.5 Meses\",\n",
    "        \">= 3.5 Meses\",\n",
    "    ],\n",
    ")\n",
    "\n",
    "# Días_en_reclamar = FECHA_FIN - FECHA_INICIO en días redondeando a 0 decimales y quitando los valores negativos\n",
    "df[\"Días_en_reclamar\"] = (\n",
    "    ((df[\"Fecha_Reclamacion\"] - df[\"FECHA_INICIO\"]).dt.days)\n",
    ").round()\n",
    "\n",
    "\n",
    "# Acá se quitan los valores negativos, no tiene sentido que se reclame antes de que inicie la póliza (acumulado 255989)\n",
    "df = df[df[\"Días_en_reclamar\"] >= 0]\n",
    "\n",
    "################################## Columnas a eliminar ##################################\n",
    "\n",
    "df = df.drop(\n",
    "    columns=[\n",
    "        \"Reclamacion_Cd\",  # Se tomó el valor y no el código\n",
    "        \"Diagnostico_Codigo\",  # Se tomó el valor y no el código\n",
    "        \"Sexo_Cd\",  # Se tomó el valor y no el código\n",
    "        \"Regional_Id\",  # Se tomó el valor y no el código\n",
    "        \"FechaNacimiento\",  # Se tomó la edad\n",
    "        \"FECHA_CANCELACION\",  # Se tomó la fecha de fin\n",
    "        \"Duración_Póliza\",  # Se tomó el rango\n",
    "    ]\n",
    ")\n",
    "\n",
    "df.shape"
   ]
  },
  {
   "cell_type": "markdown",
   "metadata": {},
   "source": [
    "TRATAMIENTOS MENORES\n",
    "* Cambiar Sexo_Cd.1 por Sexo\n",
    "* Cambiar nombre columna Valor_Utilizaciones por Costo_Total_Utilizaciones\n",
    "\n",
    "LIMPIEZA DE DATOS\n",
    "* Quitamos la categoría \"Sin Información\" de la variable Regional_desc (110 datos) y de la variable Sexo (5 datos)\n",
    "* Nos centraremos en los afiliados que compraron la póliza en septiembre de 2019 y la reclamaron después de esa fecha. Además tomamos esta decisión porque el número de afiliados restante es muy bajo del 10%, con lo que tendríamos el 90% para realizar el análisis.\n",
    "* Se quitaron las edades menores a 0\n",
    "* Los días a reclamar menores a 0 se eliminaron porque nos enfocamos en los que reclamaron después de la compra de la póliza\n",
    "\n",
    "CREACIÓN DE COLUMNAS\n",
    "* Con la columna fecha de reclamación y fecha de nacimiento se crea una columna con la edad\n",
    "* Creación columna precio unitario = Costo_Total_Utilizaciones / Numero_Utilizaciones\n",
    "* Duración póliza = FECHA_FIN - FECHA_INICIO\n",
    "* Se crea una columna con el rango de duración de la póliza\n",
    "* Días_en_reclamar = FECHA_FIN - FECHA_INICIO\n",
    "\n",
    "\n",
    "ELIMINACIÓN DE COLUMNAS\n",
    "\n",
    "Porque se tomó el valor y no el código\n",
    "* Reclamacion_Cd \n",
    "* Diagnostico_Codigo\n",
    "* Sexo_Cd\n",
    "* Regional_Id\n",
    "\n",
    "\n",
    "Porque se tomó otra columna \n",
    "* FechaNacimiento: Se tomó la edad\n",
    "* FECHA_CANCELACION: Era la misma de FECHA_FIN\n",
    "* Duración_Póliza: Se tomó el rango"
   ]
  },
  {
   "cell_type": "markdown",
   "metadata": {},
   "source": [
    "Utilizaremos los Modelos individuales de utilizaciones en vez de las sumas de utilizaciones porque ofrecen las siguientes ventajas:\n",
    "\n",
    "* Mayor detalle: Modelar las utilizaciones por separado (por ejemplo, visitas médicas, procedimientos, exámenes) proporciona un mayor nivel de detalle y pueden ayudar a comprender mejor qué tipos de servicios médicos se están utilizando y en qué cantidad.\n",
    "* Personalización: Permite una personalización más precisa de las predicciones, ya que diferentes pacientes pueden utilizar diferentes tipos y cantidades de servicios médicos.\n",
    "\n",
    "Sin embargo, en el análisis exploratorio de datos, utilizaremos las sumas de utilizaciones y costos totales por paciente para tener una idea general de la cantidad de servicios médicos utilizados y su costo total."
   ]
  },
  {
   "cell_type": "code",
   "execution_count": 23,
   "metadata": {},
   "outputs": [],
   "source": [
    "# conversión de variables 'Afiliado_Id' y 'EPOC', 'DIABETES','HIPERTENSION','ENF_CARDIOVASCULAR,'Poliza_Id, 'CANCER'\n",
    "# en variables categóricas\n",
    "for col in [\n",
    "    \"Afiliado_Id\",\n",
    "    \"EPOC\",\n",
    "    \"DIABETES\",\n",
    "    \"HIPERTENSION\",\n",
    "    \"ENF_CARDIOVASCULAR\",\n",
    "    \"Poliza_Id\",\n",
    "    \"CANCER\",\n",
    "]:\n",
    "    df[col] = df[col].astype(\"object\")\n",
    "\n",
    "\n",
    "################################## cambiar orden de las columnas ##################################\n",
    "\n",
    "df = df[\n",
    "    [\n",
    "        \"Afiliado_Id\",\n",
    "        \"Sexo\",\n",
    "        \"Edad\",\n",
    "        \"Regional_desc\",\n",
    "        \"Poliza_Id\",\n",
    "        \"Fecha_Reclamacion\",\n",
    "        \"FECHA_INICIO\",\n",
    "        \"FECHA_FIN\",\n",
    "        \"Días_en_reclamar\",\n",
    "        \"Cantidad_Utilizaciones\",\n",
    "        \"Precio_Utilización\",\n",
    "        \"Costo_Total_Utilizaciones\",\n",
    "        \"Diagnostico_Desc\",\n",
    "        \"Reclamacion_Desc\",\n",
    "        \"CANCER\",\n",
    "        \"EPOC\",\n",
    "        \"DIABETES\",\n",
    "        \"HIPERTENSION\",\n",
    "        \"ENF_CARDIOVASCULAR\",\n",
    "        \"Duración_Póliza_Rango\",\n",
    "    ]\n",
    "]"
   ]
  },
  {
   "cell_type": "markdown",
   "metadata": {},
   "source": [
    "## Tratamiento datos nulos"
   ]
  },
  {
   "cell_type": "code",
   "execution_count": 24,
   "metadata": {},
   "outputs": [
    {
     "name": "stdout",
     "output_type": "stream",
     "text": [
      "(638024, 20)\n",
      "Afiliado_Id                  0.0\n",
      "Sexo                         0.0\n",
      "Edad                         0.0\n",
      "Regional_desc                0.0\n",
      "Poliza_Id                    0.0\n",
      "Fecha_Reclamacion            0.0\n",
      "FECHA_INICIO                 0.0\n",
      "FECHA_FIN                    0.0\n",
      "Días_en_reclamar             0.0\n",
      "Cantidad_Utilizaciones       0.0\n",
      "Precio_Utilización           0.0\n",
      "Costo_Total_Utilizaciones    0.0\n",
      "Diagnostico_Desc             0.0\n",
      "Reclamacion_Desc             0.0\n",
      "CANCER                       0.0\n",
      "EPOC                         0.0\n",
      "DIABETES                     0.0\n",
      "HIPERTENSION                 0.0\n",
      "ENF_CARDIOVASCULAR           0.0\n",
      "Duración_Póliza_Rango        0.0\n",
      "dtype: float64\n"
     ]
    }
   ],
   "source": [
    "# Nulos de df porcentaje\n",
    "print(df.shape)\n",
    "print(df.isnull().sum() / len(df) * 100)"
   ]
  },
  {
   "cell_type": "markdown",
   "metadata": {},
   "source": [
    "# Guardar CSV"
   ]
  },
  {
   "cell_type": "code",
   "execution_count": 25,
   "metadata": {},
   "outputs": [],
   "source": [
    "# Guardar base de datos\n",
    "df.to_csv(\"data/data_clean.csv\", index=False)"
   ]
  }
 ],
 "metadata": {
  "kernelspec": {
   "display_name": "Python 3",
   "language": "python",
   "name": "python3"
  },
  "language_info": {
   "codemirror_mode": {
    "name": "ipython",
    "version": 3
   },
   "file_extension": ".py",
   "mimetype": "text/x-python",
   "name": "python",
   "nbconvert_exporter": "python",
   "pygments_lexer": "ipython3",
   "version": "3.12.0"
  }
 },
 "nbformat": 4,
 "nbformat_minor": 2
}
