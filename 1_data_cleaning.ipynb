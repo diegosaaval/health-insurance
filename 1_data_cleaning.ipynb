{
 "cells": [
  {
   "cell_type": "code",
   "execution_count": 166,
   "metadata": {},
   "outputs": [],
   "source": [
    "# Cargar bases de datos de carpeta data\n",
    "import pandas as pd\n",
    "import numpy as np\n",
    "\n",
    "# Base de datos\n",
    "df1 = pd.read_csv(\"data/BD_Asegurados_Expuestos.csv\", sep=\";\")\n",
    "df2 = pd.read_csv(\"data/BD_Diagnostico.csv\", sep=\";\")\n",
    "df3 = pd.read_csv(\"data/BD_Genero.csv\", sep=\";\")\n",
    "df4 = pd.read_csv(\"data/BD_Reclamaciones.csv\", sep=\";\")\n",
    "df5 = pd.read_csv(\"data/BD_Regional.csv\", sep=\";\")\n",
    "df6 = pd.read_csv(\"data/BD_SocioDemograficas.csv\", sep=\";\", low_memory=False)\n",
    "df7 = pd.read_csv(\"data/BD_UtilizacionesMedicas.csv\", sep=\";\")\n",
    "fechas = pd.read_csv(\"data/fechas.csv\", sep=\";\")"
   ]
  },
  {
   "cell_type": "markdown",
   "metadata": {},
   "source": [
    "# Unión bases de datos"
   ]
  },
  {
   "cell_type": "markdown",
   "metadata": {},
   "source": [
    "Procesamiento de fechas\n",
    "1. Se utiliza la funcion UNICOS en cada libro de excel\n",
    "2. Se pasan esos valores a un libro de excel llamado fechas en una sola columna\n",
    "3. Se vuelve a realizar la función UNICOS para obtener los únicos de todos los libros\n",
    "4. Se realiza un merge de bases de datos en python para obtener los valores de las fechas"
   ]
  },
  {
   "cell_type": "code",
   "execution_count": 167,
   "metadata": {},
   "outputs": [],
   "source": [
    "################################ ASIGNACIÓN DE FECHAS CON BASE FECHAS ##################################\n",
    "# Fecha de inicio, cancelación y fin\n",
    "df1 = (\n",
    "    pd.merge(df1, fechas, left_on=\"FECHA_INICIO\", right_on=\"cod_fecha\", how=\"left\")\n",
    "    .merge(fechas, left_on=\"FECHA_CANCELACION\", right_on=\"cod_fecha\", how=\"left\")\n",
    "    .merge(fechas, left_on=\"FECHA_FIN\", right_on=\"cod_fecha\", how=\"left\")\n",
    "    .drop(\n",
    "        columns=[\n",
    "            \"cod_fecha\",\n",
    "            \"FECHA_INICIO\",\n",
    "            \"FECHA_FIN\",\n",
    "            \"FECHA_CANCELACION\",\n",
    "            \"cod_fecha\",\n",
    "            \"cod_fecha_x\",\n",
    "            \"cod_fecha_y\",\n",
    "        ]\n",
    "    )\n",
    "    .rename(\n",
    "        columns={\n",
    "            \"fecha_x\": \"FECHA_INICIO\",\n",
    "            \"fecha_y\": \"FECHA_CANCELACION\",\n",
    "            \"fecha\": \"FECHA_FIN\",\n",
    "        }\n",
    "    )\n",
    ")\n",
    "\n",
    "# Fecha de nacimiento\n",
    "df6 = (\n",
    "    pd.merge(df6, fechas, left_on=\"FechaNacimiento\", right_on=\"cod_fecha\", how=\"left\")\n",
    "    .drop(columns=[\"cod_fecha\", \"FechaNacimiento\"])\n",
    "    .rename(columns={\"fecha\": \"FechaNacimiento\"})\n",
    ")\n",
    "\n",
    "# Fecha de reclamación\n",
    "df7 = (\n",
    "    pd.merge(df7, fechas, left_on=\"Fecha_Reclamacion\", right_on=\"cod_fecha\", how=\"left\")\n",
    "    .drop(columns=[\"cod_fecha\", \"Fecha_Reclamacion\"])\n",
    "    .rename(columns={\"fecha\": \"Fecha_Reclamacion\"})\n",
    ")\n",
    "\n",
    "###############################  Convertir a datetime las columnas de fechas ###############################\n",
    "df1[\"FECHA_INICIO\"] = pd.to_datetime(df1[\"FECHA_INICIO\"], format=\"%d/%m/%Y\")\n",
    "df1[\"FECHA_CANCELACION\"] = pd.to_datetime(df1[\"FECHA_CANCELACION\"], format=\"%d/%m/%Y\")\n",
    "df1[\"FECHA_FIN\"] = pd.to_datetime(df1[\"FECHA_FIN\"], format=\"%d/%m/%Y\")\n",
    "df6[\"FechaNacimiento\"] = pd.to_datetime(df6[\"FechaNacimiento\"], format=\"%d/%m/%Y\")\n",
    "df7[\"Fecha_Reclamacion\"] = pd.to_datetime(df7[\"Fecha_Reclamacion\"], format=\"%d/%m/%Y\")"
   ]
  },
  {
   "cell_type": "code",
   "execution_count": 168,
   "metadata": {},
   "outputs": [
    {
     "data": {
      "text/plain": [
       "(894056, 22)"
      ]
     },
     "execution_count": 168,
     "metadata": {},
     "output_type": "execute_result"
    }
   ],
   "source": [
    "######################################### UNION DE BASES DE DATOS #########################################\n",
    "\n",
    "######################## df7 = Union de bases Diagnostico y reclamación ##############################\n",
    "\n",
    "df7 = pd.merge(df7, df2, on=\"Diagnostico_Codigo\", how=\"left\").merge(\n",
    "    df4, on=\"Reclamacion_Cd\", how=\"left\"\n",
    ")\n",
    "\n",
    "####################### Procesamiento para merge Regional_Id ##############################\n",
    "# Cambiar nombre de Regional a Regional_Id de df6\n",
    "df6 = df6.rename(columns={\"Regional\": \"Regional_Id\"})\n",
    "\n",
    "# Reemplazar de Regional_Id de df6 el #N/D por -1\n",
    "df6[\"Regional_Id\"] = df6[\"Regional_Id\"].replace(\"#N/D\", -1)\n",
    "\n",
    "# Convertir Regional_Id de df6 a object\n",
    "df6[\"Regional_Id\"] = df6[\"Regional_Id\"].astype(\"int64\")\n",
    "\n",
    "####################### df6 = Union de bases Sexo, Regional ##############################\n",
    "df6 = pd.merge(df6, df3, on=\"Sexo_Cd\", how=\"left\").merge(\n",
    "    df5, on=\"Regional_Id\", how=\"left\"\n",
    ")\n",
    "\n",
    "\n",
    "####################### Unión final ##############################\n",
    "df1 = df1.rename(columns={\"Asegurado_Id\": \"Afiliado_Id\"})\n",
    "\n",
    "# Union de df1, df6 y df7 con Asegurado_Id\n",
    "df = pd.merge(df7, df6, on=\"Afiliado_Id\", how=\"outer\").merge(\n",
    "    df1, on=\"Afiliado_Id\", how=\"outer\"\n",
    ")\n",
    "\n",
    "df.shape"
   ]
  },
  {
   "cell_type": "markdown",
   "metadata": {},
   "source": [
    "# Limpieza de datos"
   ]
  },
  {
   "cell_type": "code",
   "execution_count": 169,
   "metadata": {},
   "outputs": [
    {
     "data": {
      "text/plain": [
       "(637770, 19)"
      ]
     },
     "execution_count": 169,
     "metadata": {},
     "output_type": "execute_result"
    }
   ],
   "source": [
    "######################################### TRATAMIENTOS MENORES #########################################\n",
    "# Cambiar Sexo_Cd.1 por Sexo\n",
    "df = df.rename(columns={\"Sexo_Cd.1\": \"Sexo\"})\n",
    "\n",
    "# cambiar nombre columna Valor_Utilizaciones por Costo_Total_Utilizaciones\n",
    "df = df.rename(columns={\"Valor_Utilizaciones\": \"Costo_Total_Utilizaciones\"})\n",
    "\n",
    "\n",
    "######################################### LIMPIEZA #########################################\n",
    "# quitar categoría \"Sin información\" de Sexo (5 datos)\n",
    "df = df[df[\"Sexo\"] != \"Sin Informacion\"]\n",
    "\n",
    "# Quitar categoría \"Sin información\" de Regional_desc (acumulado 110)\n",
    "df = df[df[\"Regional_desc\"] != \"Sin Información\"]\n",
    "\n",
    "# Seleccionar solo los registros del 2019 (acumulado 70599)\n",
    "df = df[df[\"Fecha_Reclamacion\"].dt.year == 2019]\n",
    "\n",
    "\n",
    "######################################### CREACIÓN DE COLUMNAS #########################################\n",
    "# Crear columna con FechaNacimiento para edad\n",
    "df[\"Edad\"] = df[\"Fecha_Reclamacion\"].dt.year - df[\"FechaNacimiento\"].dt.year\n",
    "# Se eliminan las filas con Edad negativa (acumulado 73236)\n",
    "df = df[df[\"Edad\"] >= 0]\n",
    "\n",
    "# Las Numero_Utilizaciones = 0 se eliminan\n",
    "df = df[df[\"Numero_Utilizaciones\"] > 0]\n",
    "\n",
    "# Columna con Valor_Utilizaciones / Numero_Utilizaciones\n",
    "df[\"Precio_Utilización\"] = df[\"Costo_Total_Utilizaciones\"] / df[\"Numero_Utilizaciones\"]\n",
    "\n",
    "\n",
    "# Cambiar nombre de columnas Numero_Utilizaciones por Cantidad_Utilizaciones y Valor_Utilizaciones por Costo_Total_Utilización\n",
    "df = df.rename(\n",
    "    columns={\n",
    "        \"Numero_Utilizaciones\": \"Cantidad_Utilizaciones\",\n",
    "    }\n",
    ")\n",
    "\n",
    "# Convertir variable Cantidad_Utilizaciones a int64\n",
    "df[\"Cantidad_Utilizaciones\"] = df[\"Cantidad_Utilizaciones\"].astype(\"int64\")\n",
    "\n",
    "# Crear rango de edades así: 0-1, 1-12, 13-18, 19-29, 30-59, 60-69, 70-79, 80-89, 90-99, 100+\n",
    "df[\"Edad\"] = df[\"Edad\"].astype(\"int64\")\n",
    "df[\"rango_edad\"] = pd.cut(\n",
    "    df[\"Edad\"],\n",
    "    bins=[-1, 1, 12, 18, 29, 59, 69, 79, 89, 99, 200],\n",
    "    labels=[\n",
    "        \"0-1\",\n",
    "        \"1-12\",\n",
    "        \"13-18\",\n",
    "        \"19-29\",\n",
    "        \"30-59\",\n",
    "        \"60-69\",\n",
    "        \"70-79\",\n",
    "        \"80-89\",\n",
    "        \"90-99\",\n",
    "        \"100+\",\n",
    "    ],\n",
    ")\n",
    "\n",
    "\n",
    "# Días_en_reclamar = FECHA_FIN - FECHA_INICIO en días redondeando a 0 decimales y quitando los valores negativos\n",
    "df[\"Días_en_reclamar\"] = (\n",
    "    ((df[\"Fecha_Reclamacion\"] - df[\"FECHA_INICIO\"]).dt.days)\n",
    ").round()\n",
    "\n",
    "\n",
    "# Acá se quitan los valores negativos, no tiene sentido que se reclame antes de que inicie la póliza (acumulado 255989)\n",
    "df = df[df[\"Días_en_reclamar\"] >= 0]\n",
    "\n",
    "################################## Columnas a eliminar ##################################\n",
    "\n",
    "df = df.drop(\n",
    "    columns=[\n",
    "        \"Reclamacion_Cd\",  # Se tomó el valor y no el código\n",
    "        \"Diagnostico_Codigo\",  # Se tomó el valor y no el código\n",
    "        \"Sexo_Cd\",  # Se tomó el valor y no el código\n",
    "        \"Regional_Id\",  # Se tomó el valor y no el código\n",
    "        \"FechaNacimiento\",  # Se tomó la edad\n",
    "        \"FECHA_CANCELACION\",  # Se tomó la fecha de fin\n",
    "        \"Poliza_Id\",  # No se utilizará\n",
    "    ]\n",
    ")\n",
    "\n",
    "df.shape"
   ]
  },
  {
   "cell_type": "markdown",
   "metadata": {},
   "source": [
    "ANTES DE LA LIMPIEZA DE DATOS:\n",
    "* En un inicio tenemos 894056 datos con 22 columnas\n",
    "\n",
    "TRATAMIENTOS MENORES\n",
    "* Cambiar el nombre de la variable Sexo_Cd.1 por Sexo\n",
    "* Cambiar el nombre de la columna Valor_Utilizaciones por Costo_Total_Utilizaciones\n",
    "\n",
    "LIMPIEZA DE DATOS\n",
    "* Quitamos la categoría \"Sin Información\" de la variable Regional_desc (110 datos) y de la variable Sexo (5 datos)\n",
    "* Nos centraremos en los afiliados que compraron la póliza en septiembre de 2019 y la reclamaron después de esa fecha. Además tomamos esta decisión porque el número de afiliados que no son del 2019 es muy bajo (10%), con lo que tendríamos el 90% para realizar el análisis y es algo de lo que podríamos obtener información relevante\n",
    "* Se quitaron las edades menores a 0\n",
    "* La cantidad de utilizaciones que son 0 se eliminan porque no tienen sentido y son solo 254 registros\n",
    "* Los días a reclamar menores a 0 se eliminaron porque nos enfocamos en los que reclamaron después de la compra de la póliza\n",
    "\n",
    "CREACIÓN DE COLUMNAS\n",
    "* Con la columna fecha de reclamación y fecha de nacimiento se crea una columna con la edad\n",
    "* Creación columna Precio_Utilizacion = Costo_Total_Utilizaciones / Numero_Utilizaciones\n",
    "* Días_en_reclamar = FECHA_FIN - FECHA_INICIO\n",
    "\n",
    "\n",
    "ELIMINACIÓN DE COLUMNAS\n",
    "Porque se tomó el valor y no el código\n",
    "* Reclamacion_Cd \n",
    "* Diagnostico_Codigo\n",
    "* Sexo_Cd\n",
    "* Regional_Id\n",
    "\n",
    "\n",
    "Porque se tomó otra columna \n",
    "* FechaNacimiento: Se tomó la edad\n",
    "* FECHA_CANCELACION: Era la misma de FECHA_FIN\n",
    "* Duración_Póliza: Se tomó el rango\n",
    "\n",
    "La PolizaID podría ser algo muy influyente en nuestras variables objetivo para ver que póliza hace que el precio se incremente pero tiene 147 mil registros unicos y al volverlos dummies, se crearían demasiadas columnas por lo que se decide eliminar\n",
    "\n",
    "\n",
    "\n",
    "Grupo etario: Nos basamos en lo siguiente para realizar la asignación del grupo etario:\n",
    "* Reglamento de salud suplementaria expedido por la Superintendencia Nacional de Salud de Colombia\n",
    "* Contratos de seguros de hospitalización y cirugía ofrecidos por las principales aseguradoras de Colombia\n",
    "\n",
    "Haciendo énfasis es decir rangos más pequeños, de la vejez ya que son más propensos a tener enfermedades y a reclamar más.\n",
    "\n",
    "* Menores de 1 año: 0-12 meses\n",
    "* Niños de 1 a 12 años: 1-12 años\n",
    "* Adolescentes de 13 a 18 años: 13-18 años\n",
    "* Adultos jóvenes de 19 a 30 años: 19-29 años\n",
    "* Adultos de 30 a 59 años: 30-59 años\n",
    "* Adultos mayores de 60 años: 60-69 años\n",
    "* Adultos mayores de 70 años: 70-79 años\n",
    "* Adultos mayores de 80 años: 80-89 años\n",
    "* Adultos mayores de 90 años: 90-99 años\n",
    "* Adultos mayores de 100 años: 100 años o más\n",
    "\n",
    "Finalizamos con 637770 registros con 19 columnas"
   ]
  },
  {
   "cell_type": "markdown",
   "metadata": {},
   "source": [
    "# Tratamiento reclamaciones"
   ]
  },
  {
   "cell_type": "markdown",
   "metadata": {},
   "source": [
    "Para reducir la cantidad de categorías en la variable tipo de reclamación, agrupamos algunas categorías en estos grandes grupos:\n",
    "* TRATAMIENTO AMBULATORIO\n",
    "* TRATAMIENTO MEDICO HOSPITALARIO\n",
    "* TRATAMIENTO QUIRÚRGICO HOSPITALARIO\n",
    "* CIRUGÍA AMBULATORIA\n",
    "\n",
    "\n",
    "y juntamos 1 ANEXO EXEQUIAL con FUNERARIOS"
   ]
  },
  {
   "cell_type": "code",
   "execution_count": 170,
   "metadata": {},
   "outputs": [],
   "source": [
    "# SI CONTIENE ESA PALABRA COLOCAR ESA PALABRA: CIRUGÍA AMBULATORIA\n",
    "df.loc[\n",
    "    df[\"Reclamacion_Desc\"].str.contains(\"CIRUGIA AMBULATORIA\"), \"Reclamacion_Desc\"\n",
    "] = \"CIRUGIA AMBULATORIA\"\n",
    "# SI CONTIENE ESA PALABRA COLOCAR ESA PALABRA: TRATAMIENTO QUIRURGICO HOSPITALARIO, TRATAMIENTO MEDICO HOSPITALARIO, TRATAMIENTOS AMBULATORIOS\n",
    "df.loc[\n",
    "    df[\"Reclamacion_Desc\"].str.contains(\"TRATAMIENTO QUIRURGICO HOSPITALARIO\"),\n",
    "    \"Reclamacion_Desc\",\n",
    "] = \"TRATAMIENTO QUIRURGICO HOSPITALARIO\"\n",
    "df.loc[\n",
    "    df[\"Reclamacion_Desc\"].str.contains(\"TRATAMIENTO MEDICO HOSPITALARIO\"),\n",
    "    \"Reclamacion_Desc\",\n",
    "] = \"TRATAMIENTO MEDICO HOSPITALARIO\"\n",
    "\n",
    "# SI CONTIENE ESA PALABRA COLOCAR ESA PALABRA: TRATAMIENTOS MEDICO AMBULATORIOS & TRATAMIENTO MEDICO AMBULATORIO\n",
    "df.loc[\n",
    "    df[\"Reclamacion_Desc\"].str.contains(\"TRATAMIENTOS MEDICO AMBULATORIOS\"),\n",
    "    \"Reclamacion_Desc\",\n",
    "] = \"TRATAMIENTO AMBULATORIO\"\n",
    "df.loc[\n",
    "    df[\"Reclamacion_Desc\"].str.contains(\"TRATAMIENTO MEDICO AMBULATORIO\"),\n",
    "    \"Reclamacion_Desc\",\n",
    "] = \"TRATAMIENTO AMBULATORIO\"\n",
    "df.loc[\n",
    "    df[\"Reclamacion_Desc\"].str.contains(\"TRATAMIENTO AMBULATORIO\"), \"Reclamacion_Desc\"\n",
    "] = \"TRATAMIENTO AMBULATORIO\"\n",
    "df.loc[\n",
    "    df[\"Reclamacion_Desc\"].str.contains(\"TRATAMIENTOS AMBULATORIOS\"),\n",
    "    \"Reclamacion_Desc\",\n",
    "] = \"TRATAMIENTO AMBULATORIO\"\n",
    "\n",
    "# Cambiar ANEXO EXEQUIAL --> FUNERARIOS\n",
    "df.loc[\n",
    "    df[\"Reclamacion_Desc\"].str.contains(\"ANEXO EXEQUIAL\"), \"Reclamacion_Desc\"\n",
    "] = \"FUNERARIOS\""
   ]
  },
  {
   "cell_type": "markdown",
   "metadata": {},
   "source": [
    "# Detalles mínimos"
   ]
  },
  {
   "cell_type": "markdown",
   "metadata": {},
   "source": [
    "Convertimos las variables en tipo objeto y cambiamos el orden las columnas para mayor facilidad a la hora de interpretar"
   ]
  },
  {
   "cell_type": "code",
   "execution_count": 171,
   "metadata": {},
   "outputs": [],
   "source": [
    "# conversión de variables categóricas y objeto\n",
    "for col in [\n",
    "    \"Afiliado_Id\",\n",
    "    \"Sexo\",\n",
    "    \"rango_edad\",\n",
    "    \"Regional_desc\",\n",
    "    \"Diagnostico_Desc\",\n",
    "    \"Reclamacion_Desc\",\n",
    "    \"CANCER\",\n",
    "    \"EPOC\",\n",
    "    \"DIABETES\",\n",
    "    \"HIPERTENSION\",\n",
    "    \"ENF_CARDIOVASCULAR\",\n",
    "]:\n",
    "    df[col] = df[col].astype(\"object\")\n",
    "\n",
    "################################## cambiar orden de las columnas ##################################\n",
    "\n",
    "df = df[\n",
    "    [\n",
    "        \"Afiliado_Id\",\n",
    "        \"Sexo\",\n",
    "        \"Edad\",\n",
    "        \"rango_edad\",\n",
    "        \"Regional_desc\",\n",
    "        \"Fecha_Reclamacion\",\n",
    "        \"FECHA_INICIO\",\n",
    "        \"FECHA_FIN\",\n",
    "        \"Días_en_reclamar\",\n",
    "        \"Cantidad_Utilizaciones\",\n",
    "        \"Precio_Utilización\",\n",
    "        \"Costo_Total_Utilizaciones\",\n",
    "        \"Diagnostico_Desc\",\n",
    "        \"Reclamacion_Desc\",\n",
    "        \"CANCER\",\n",
    "        \"EPOC\",\n",
    "        \"DIABETES\",\n",
    "        \"HIPERTENSION\",\n",
    "        \"ENF_CARDIOVASCULAR\",\n",
    "    ]\n",
    "]"
   ]
  },
  {
   "cell_type": "markdown",
   "metadata": {},
   "source": [
    "## Tratamiento datos nulos"
   ]
  },
  {
   "cell_type": "code",
   "execution_count": 172,
   "metadata": {},
   "outputs": [
    {
     "name": "stdout",
     "output_type": "stream",
     "text": [
      "(637770, 19)\n",
      "Afiliado_Id                  0.0\n",
      "Sexo                         0.0\n",
      "Edad                         0.0\n",
      "rango_edad                   0.0\n",
      "Regional_desc                0.0\n",
      "Fecha_Reclamacion            0.0\n",
      "FECHA_INICIO                 0.0\n",
      "FECHA_FIN                    0.0\n",
      "Días_en_reclamar             0.0\n",
      "Cantidad_Utilizaciones       0.0\n",
      "Precio_Utilización           0.0\n",
      "Costo_Total_Utilizaciones    0.0\n",
      "Diagnostico_Desc             0.0\n",
      "Reclamacion_Desc             0.0\n",
      "CANCER                       0.0\n",
      "EPOC                         0.0\n",
      "DIABETES                     0.0\n",
      "HIPERTENSION                 0.0\n",
      "ENF_CARDIOVASCULAR           0.0\n",
      "dtype: float64\n"
     ]
    }
   ],
   "source": [
    "# Nulos de df porcentaje\n",
    "print(df.shape)\n",
    "print(df.isnull().sum() / len(df) * 100)"
   ]
  },
  {
   "cell_type": "markdown",
   "metadata": {},
   "source": [
    "# Guardar en formato pickle"
   ]
  },
  {
   "cell_type": "code",
   "execution_count": 173,
   "metadata": {},
   "outputs": [],
   "source": [
    "# Guardar base de datos en pickle\n",
    "df.to_pickle(\"data/df.pkl\")"
   ]
  },
  {
   "cell_type": "markdown",
   "metadata": {},
   "source": [
    "# Resumen"
   ]
  },
  {
   "cell_type": "markdown",
   "metadata": {},
   "source": [
    "### **LIMPIEZA Y PREPARACIÓN DE DATOS**\n",
    "\n",
    "#### 1. PROCESAMIENTO DE FECHAS\n",
    "- Se reunieron y consolidaron valores únicos de fechas de reclamaciones desde múltiples fuentes mediante Excel y Python.\n",
    "\n",
    "#### 2. LIMPIEZA INICIAL\n",
    "- Se manejaron pequeños ajustes: renombrar columnas, eliminar categorías irrelevantes y centrarse en datos pertinentes.\n",
    "\n",
    "#### 3. FILTRADO DE DATOS\n",
    "- Se focalizó en afiliados que adquirieron pólizas en septiembre de 2019 y reclamaron después, representando el 90% de los datos para análisis relevante.\n",
    "- Se eliminaron registros inválidos (edades negativas, utilizaciones de valor 0, días de reclamo negativos).\n",
    "\n",
    "#### 4. CREACIÓN Y ELIMINACIÓN DE COLUMNAS\n",
    "- Se crearon nuevas columnas como \"Edad\", \"Precio_Utilizacion\", y \"Días_en_reclamar\" para análisis detallado.\n",
    "- Se eliminaron columnas innecesarias o redundantes.\n",
    "\n",
    "#### 5. GRUPO ETARIO\n",
    "- Se definió el grupo etario siguiendo estándares de salud y seguros, segmentando en rangos específicos.\n",
    "\n",
    "#### 6. TRATAMIENTO DE TIPO DE RECLAMACIONES\n",
    "- Se agruparon y simplificaron las categorías de \"tipo de reclamación\" para una mejor comprensión y análisis.\n",
    "\n",
    "#### 7. DETALLES FINALES\n",
    "- Se optimizó la presentación del dataset para facilitar su interpretación.\n",
    "\n",
    "#### 8. CONTROL DE DATOS NULOS\n",
    "- No se encontraron valores nulos en el dataset.\n",
    "\n",
    "---\n",
    "\n",
    "Este proceso de limpieza y preparación de datos permitió organizar la información de manera coherente para un análisis más efectivo.\n"
   ]
  }
 ],
 "metadata": {
  "kernelspec": {
   "display_name": "Python 3",
   "language": "python",
   "name": "python3"
  },
  "language_info": {
   "codemirror_mode": {
    "name": "ipython",
    "version": 3
   },
   "file_extension": ".py",
   "mimetype": "text/x-python",
   "name": "python",
   "nbconvert_exporter": "python",
   "pygments_lexer": "ipython3",
   "version": "3.12.0"
  }
 },
 "nbformat": 4,
 "nbformat_minor": 2
}
